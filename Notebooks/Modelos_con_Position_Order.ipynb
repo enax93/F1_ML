{
 "cells": [
  {
   "cell_type": "markdown",
   "metadata": {},
   "source": [
    "### Importación de Librerias"
   ]
  },
  {
   "cell_type": "code",
   "execution_count": 10,
   "metadata": {},
   "outputs": [],
   "source": [
    "import matplotlib.pyplot as plt\n",
    "import pandas as pd\n",
    "import pickle\n",
    "import plotly.express as px\n",
    "import seaborn as sns\n",
    "import toolbox_ML as tb\n",
    "import warnings\n",
    "\n",
    "warnings.filterwarnings('ignore')\n",
    "\n",
    "# Configurar pandas para que no corte las visualizaciones\n",
    "pd.set_option(\"display.max_columns\", None)  # Mostrar todas las columnas\n",
    "pd.set_option(\"display.max_colwidth\", None)  # Mostrar todo el contenido de las celdas, si es posible\n",
    "# pd.set_option('display.max_rows', None) # Mostrar todas las filas\n",
    "\n",
    "from scipy import stats\n",
    "from scipy.stats import pearsonr\n",
    "from sklearn.model_selection import train_test_split, cross_val_score, GridSearchCV\n",
    "from sklearn.compose import ColumnTransformer\n",
    "from sklearn.pipeline import Pipeline\n",
    "from sklearn.preprocessing import OneHotEncoder,TargetEncoder,StandardScaler\n",
    "from sklearn.ensemble import RandomForestClassifier\n",
    "from sklearn.feature_selection import SelectFromModel\n",
    "from lightgbm import LGBMClassifier\n",
    "from catboost import CatBoostClassifier\n",
    "from sklearn.dummy import DummyClassifier\n",
    "from sklearn.metrics import accuracy_score\n"
   ]
  },
  {
   "cell_type": "markdown",
   "metadata": {},
   "source": [
    "### Creando el dataframe"
   ]
  },
  {
   "cell_type": "code",
   "execution_count": 3,
   "metadata": {},
   "outputs": [],
   "source": [
    "df = pd.read_csv(\"../data/F1_act.csv\")"
   ]
  },
  {
   "cell_type": "markdown",
   "metadata": {},
   "source": [
    "### Exploración"
   ]
  },
  {
   "cell_type": "code",
   "execution_count": 4,
   "metadata": {},
   "outputs": [
    {
     "data": {
      "text/html": [
       "<div>\n",
       "<style scoped>\n",
       "    .dataframe tbody tr th:only-of-type {\n",
       "        vertical-align: middle;\n",
       "    }\n",
       "\n",
       "    .dataframe tbody tr th {\n",
       "        vertical-align: top;\n",
       "    }\n",
       "\n",
       "    .dataframe thead th {\n",
       "        text-align: right;\n",
       "    }\n",
       "</style>\n",
       "<table border=\"1\" class=\"dataframe\">\n",
       "  <thead>\n",
       "    <tr style=\"text-align: right;\">\n",
       "      <th></th>\n",
       "      <th>Race</th>\n",
       "      <th>Driver</th>\n",
       "      <th>Constructor</th>\n",
       "      <th>Circuit</th>\n",
       "      <th>Grid</th>\n",
       "      <th>Position_Order</th>\n",
       "      <th>Points</th>\n",
       "      <th>Laps</th>\n",
       "      <th>Fastest_Lap</th>\n",
       "      <th>Rank</th>\n",
       "      <th>Fastest_Lap_Time (Seg)</th>\n",
       "      <th>Fastest_Lap_Speed (KM/H)</th>\n",
       "      <th>Status</th>\n",
       "      <th>Year</th>\n",
       "      <th>Date</th>\n",
       "    </tr>\n",
       "  </thead>\n",
       "  <tbody>\n",
       "    <tr>\n",
       "      <th>0</th>\n",
       "      <td>European Grand Prix</td>\n",
       "      <td>Jenson Button</td>\n",
       "      <td>Honda</td>\n",
       "      <td>Nurburgring</td>\n",
       "      <td>17</td>\n",
       "      <td>18</td>\n",
       "      <td>0.0</td>\n",
       "      <td>2</td>\n",
       "      <td>2</td>\n",
       "      <td>18</td>\n",
       "      <td>140.0</td>\n",
       "      <td>132.338</td>\n",
       "      <td>Spun Off</td>\n",
       "      <td>2007</td>\n",
       "      <td>22/07/2007</td>\n",
       "    </tr>\n",
       "    <tr>\n",
       "      <th>1</th>\n",
       "      <td>European Grand Prix</td>\n",
       "      <td>Adrian Sutil</td>\n",
       "      <td>Spyker</td>\n",
       "      <td>Nurburgring</td>\n",
       "      <td>21</td>\n",
       "      <td>19</td>\n",
       "      <td>0.0</td>\n",
       "      <td>2</td>\n",
       "      <td>2</td>\n",
       "      <td>19</td>\n",
       "      <td>145.8</td>\n",
       "      <td>127.112</td>\n",
       "      <td>Spun Off</td>\n",
       "      <td>2007</td>\n",
       "      <td>22/07/2007</td>\n",
       "    </tr>\n",
       "    <tr>\n",
       "      <th>2</th>\n",
       "      <td>European Grand Prix</td>\n",
       "      <td>Nico Rosberg</td>\n",
       "      <td>Williams</td>\n",
       "      <td>Nurburgring</td>\n",
       "      <td>11</td>\n",
       "      <td>20</td>\n",
       "      <td>0.0</td>\n",
       "      <td>2</td>\n",
       "      <td>2</td>\n",
       "      <td>20</td>\n",
       "      <td>170.9</td>\n",
       "      <td>108.410</td>\n",
       "      <td>Spun Off</td>\n",
       "      <td>2007</td>\n",
       "      <td>22/07/2007</td>\n",
       "    </tr>\n",
       "    <tr>\n",
       "      <th>3</th>\n",
       "      <td>European Grand Prix</td>\n",
       "      <td>Scott Speed</td>\n",
       "      <td>Toro Rosso</td>\n",
       "      <td>Nurburgring</td>\n",
       "      <td>18</td>\n",
       "      <td>21</td>\n",
       "      <td>0.0</td>\n",
       "      <td>2</td>\n",
       "      <td>2</td>\n",
       "      <td>21</td>\n",
       "      <td>181.9</td>\n",
       "      <td>101.884</td>\n",
       "      <td>Spun Off</td>\n",
       "      <td>2007</td>\n",
       "      <td>22/07/2007</td>\n",
       "    </tr>\n",
       "    <tr>\n",
       "      <th>4</th>\n",
       "      <td>European Grand Prix</td>\n",
       "      <td>Vitantonio Liuzzi</td>\n",
       "      <td>Toro Rosso</td>\n",
       "      <td>Nurburgring</td>\n",
       "      <td>19</td>\n",
       "      <td>22</td>\n",
       "      <td>0.0</td>\n",
       "      <td>2</td>\n",
       "      <td>2</td>\n",
       "      <td>22</td>\n",
       "      <td>202.3</td>\n",
       "      <td>91.610</td>\n",
       "      <td>Spun Off</td>\n",
       "      <td>2007</td>\n",
       "      <td>22/07/2007</td>\n",
       "    </tr>\n",
       "    <tr>\n",
       "      <th>5</th>\n",
       "      <td>Brazilian Grand Prix</td>\n",
       "      <td>Sakon Yamamoto</td>\n",
       "      <td>Spyker</td>\n",
       "      <td>Interlagos</td>\n",
       "      <td>22</td>\n",
       "      <td>21</td>\n",
       "      <td>0.0</td>\n",
       "      <td>2</td>\n",
       "      <td>2</td>\n",
       "      <td>21</td>\n",
       "      <td>110.4</td>\n",
       "      <td>140.505</td>\n",
       "      <td>Collision</td>\n",
       "      <td>2007</td>\n",
       "      <td>21/10/2007</td>\n",
       "    </tr>\n",
       "    <tr>\n",
       "      <th>6</th>\n",
       "      <td>Brazilian Grand Prix</td>\n",
       "      <td>Giancarlo Fisichella</td>\n",
       "      <td>Renault</td>\n",
       "      <td>Interlagos</td>\n",
       "      <td>12</td>\n",
       "      <td>22</td>\n",
       "      <td>0.0</td>\n",
       "      <td>2</td>\n",
       "      <td>2</td>\n",
       "      <td>22</td>\n",
       "      <td>122.7</td>\n",
       "      <td>126.446</td>\n",
       "      <td>Collision</td>\n",
       "      <td>2007</td>\n",
       "      <td>21/10/2007</td>\n",
       "    </tr>\n",
       "    <tr>\n",
       "      <th>7</th>\n",
       "      <td>Spanish Grand Prix</td>\n",
       "      <td>Mark Webber</td>\n",
       "      <td>Red Bull</td>\n",
       "      <td>Catalunya</td>\n",
       "      <td>19</td>\n",
       "      <td>21</td>\n",
       "      <td>0.0</td>\n",
       "      <td>7</td>\n",
       "      <td>4</td>\n",
       "      <td>21</td>\n",
       "      <td>86.3</td>\n",
       "      <td>194.131</td>\n",
       "      <td>Hydraulics</td>\n",
       "      <td>2007</td>\n",
       "      <td>13/05/2007</td>\n",
       "    </tr>\n",
       "    <tr>\n",
       "      <th>8</th>\n",
       "      <td>Hungarian Grand Prix</td>\n",
       "      <td>Sakon Yamamoto</td>\n",
       "      <td>Spyker</td>\n",
       "      <td>Hungaroring</td>\n",
       "      <td>22</td>\n",
       "      <td>22</td>\n",
       "      <td>0.0</td>\n",
       "      <td>4</td>\n",
       "      <td>4</td>\n",
       "      <td>22</td>\n",
       "      <td>86.7</td>\n",
       "      <td>181.824</td>\n",
       "      <td>Accident</td>\n",
       "      <td>2007</td>\n",
       "      <td>05/08/2007</td>\n",
       "    </tr>\n",
       "    <tr>\n",
       "      <th>9</th>\n",
       "      <td>Turkish Grand Prix</td>\n",
       "      <td>Mark Webber</td>\n",
       "      <td>Red Bull</td>\n",
       "      <td>Istanbul</td>\n",
       "      <td>12</td>\n",
       "      <td>22</td>\n",
       "      <td>0.0</td>\n",
       "      <td>9</td>\n",
       "      <td>4</td>\n",
       "      <td>21</td>\n",
       "      <td>90.8</td>\n",
       "      <td>211.620</td>\n",
       "      <td>Hydraulics</td>\n",
       "      <td>2007</td>\n",
       "      <td>26/08/2007</td>\n",
       "    </tr>\n",
       "  </tbody>\n",
       "</table>\n",
       "</div>"
      ],
      "text/plain": [
       "                   Race                Driver Constructor      Circuit  Grid  \\\n",
       "0   European Grand Prix         Jenson Button       Honda  Nurburgring    17   \n",
       "1   European Grand Prix          Adrian Sutil      Spyker  Nurburgring    21   \n",
       "2   European Grand Prix          Nico Rosberg    Williams  Nurburgring    11   \n",
       "3   European Grand Prix           Scott Speed  Toro Rosso  Nurburgring    18   \n",
       "4   European Grand Prix     Vitantonio Liuzzi  Toro Rosso  Nurburgring    19   \n",
       "5  Brazilian Grand Prix        Sakon Yamamoto      Spyker   Interlagos    22   \n",
       "6  Brazilian Grand Prix  Giancarlo Fisichella     Renault   Interlagos    12   \n",
       "7    Spanish Grand Prix           Mark Webber    Red Bull    Catalunya    19   \n",
       "8  Hungarian Grand Prix        Sakon Yamamoto      Spyker  Hungaroring    22   \n",
       "9    Turkish Grand Prix           Mark Webber    Red Bull     Istanbul    12   \n",
       "\n",
       "   Position_Order  Points  Laps  Fastest_Lap  Rank  Fastest_Lap_Time (Seg)  \\\n",
       "0              18     0.0     2            2    18                   140.0   \n",
       "1              19     0.0     2            2    19                   145.8   \n",
       "2              20     0.0     2            2    20                   170.9   \n",
       "3              21     0.0     2            2    21                   181.9   \n",
       "4              22     0.0     2            2    22                   202.3   \n",
       "5              21     0.0     2            2    21                   110.4   \n",
       "6              22     0.0     2            2    22                   122.7   \n",
       "7              21     0.0     7            4    21                    86.3   \n",
       "8              22     0.0     4            4    22                    86.7   \n",
       "9              22     0.0     9            4    21                    90.8   \n",
       "\n",
       "   Fastest_Lap_Speed (KM/H)      Status  Year        Date  \n",
       "0                   132.338    Spun Off  2007  22/07/2007  \n",
       "1                   127.112    Spun Off  2007  22/07/2007  \n",
       "2                   108.410    Spun Off  2007  22/07/2007  \n",
       "3                   101.884    Spun Off  2007  22/07/2007  \n",
       "4                    91.610    Spun Off  2007  22/07/2007  \n",
       "5                   140.505   Collision  2007  21/10/2007  \n",
       "6                   126.446   Collision  2007  21/10/2007  \n",
       "7                   194.131  Hydraulics  2007  13/05/2007  \n",
       "8                   181.824    Accident  2007  05/08/2007  \n",
       "9                   211.620  Hydraulics  2007  26/08/2007  "
      ]
     },
     "execution_count": 4,
     "metadata": {},
     "output_type": "execute_result"
    }
   ],
   "source": [
    "# Mostrar los primeros 10 registros del dataframe\n",
    "df.head(10)"
   ]
  },
  {
   "cell_type": "code",
   "execution_count": 5,
   "metadata": {},
   "outputs": [
    {
     "name": "stdout",
     "output_type": "stream",
     "text": [
      "<class 'pandas.core.frame.DataFrame'>\n",
      "RangeIndex: 6839 entries, 0 to 6838\n",
      "Data columns (total 15 columns):\n",
      " #   Column                    Non-Null Count  Dtype  \n",
      "---  ------                    --------------  -----  \n",
      " 0   Race                      6839 non-null   object \n",
      " 1   Driver                    6839 non-null   object \n",
      " 2   Constructor               6839 non-null   object \n",
      " 3   Circuit                   6839 non-null   object \n",
      " 4   Grid                      6839 non-null   int64  \n",
      " 5   Position_Order            6839 non-null   int64  \n",
      " 6   Points                    6839 non-null   float64\n",
      " 7   Laps                      6839 non-null   int64  \n",
      " 8   Fastest_Lap               6839 non-null   int64  \n",
      " 9   Rank                      6839 non-null   int64  \n",
      " 10  Fastest_Lap_Time (Seg)    6839 non-null   float64\n",
      " 11  Fastest_Lap_Speed (KM/H)  6839 non-null   float64\n",
      " 12  Status                    6839 non-null   object \n",
      " 13  Year                      6839 non-null   int64  \n",
      " 14  Date                      6839 non-null   object \n",
      "dtypes: float64(3), int64(6), object(6)\n",
      "memory usage: 801.6+ KB\n"
     ]
    }
   ],
   "source": [
    "# Mostrar la información del dataframe\n",
    "df.info()"
   ]
  },
  {
   "cell_type": "code",
   "execution_count": 6,
   "metadata": {},
   "outputs": [
    {
     "data": {
      "text/plain": [
       "Index(['Race', 'Driver', 'Constructor', 'Circuit', 'Grid', 'Position_Order',\n",
       "       'Points', 'Laps', 'Fastest_Lap', 'Rank', 'Fastest_Lap_Time (Seg)',\n",
       "       'Fastest_Lap_Speed (KM/H)', 'Status', 'Year', 'Date'],\n",
       "      dtype='object')"
      ]
     },
     "execution_count": 6,
     "metadata": {},
     "output_type": "execute_result"
    }
   ],
   "source": [
    "df.columns"
   ]
  },
  {
   "cell_type": "markdown",
   "metadata": {},
   "source": [
    "### Correlación entre variables"
   ]
  },
  {
   "cell_type": "code",
   "execution_count": 7,
   "metadata": {},
   "outputs": [
    {
     "data": {
      "text/html": [
       "<div>\n",
       "<style scoped>\n",
       "    .dataframe tbody tr th:only-of-type {\n",
       "        vertical-align: middle;\n",
       "    }\n",
       "\n",
       "    .dataframe tbody tr th {\n",
       "        vertical-align: top;\n",
       "    }\n",
       "\n",
       "    .dataframe thead th {\n",
       "        text-align: right;\n",
       "    }\n",
       "</style>\n",
       "<table border=\"1\" class=\"dataframe\">\n",
       "  <thead>\n",
       "    <tr style=\"text-align: right;\">\n",
       "      <th></th>\n",
       "      <th>Grid</th>\n",
       "      <th>Position_Order</th>\n",
       "      <th>Points</th>\n",
       "      <th>Laps</th>\n",
       "      <th>Fastest_Lap</th>\n",
       "      <th>Rank</th>\n",
       "      <th>Fastest_Lap_Time (Seg)</th>\n",
       "      <th>Fastest_Lap_Speed (KM/H)</th>\n",
       "      <th>Year</th>\n",
       "    </tr>\n",
       "  </thead>\n",
       "  <tbody>\n",
       "    <tr>\n",
       "      <th>Grid</th>\n",
       "      <td>1.000000</td>\n",
       "      <td>0.589778</td>\n",
       "      <td>-0.597760</td>\n",
       "      <td>-0.103469</td>\n",
       "      <td>-0.057111</td>\n",
       "      <td>0.547656</td>\n",
       "      <td>0.036675</td>\n",
       "      <td>-0.075956</td>\n",
       "      <td>-0.096786</td>\n",
       "    </tr>\n",
       "    <tr>\n",
       "      <th>Position_Order</th>\n",
       "      <td>0.589778</td>\n",
       "      <td>1.000000</td>\n",
       "      <td>-0.792167</td>\n",
       "      <td>-0.524463</td>\n",
       "      <td>-0.424649</td>\n",
       "      <td>0.570482</td>\n",
       "      <td>-0.174136</td>\n",
       "      <td>-0.336553</td>\n",
       "      <td>-0.073798</td>\n",
       "    </tr>\n",
       "    <tr>\n",
       "      <th>Points</th>\n",
       "      <td>-0.597760</td>\n",
       "      <td>-0.792167</td>\n",
       "      <td>1.000000</td>\n",
       "      <td>0.248350</td>\n",
       "      <td>0.232005</td>\n",
       "      <td>-0.538678</td>\n",
       "      <td>0.066728</td>\n",
       "      <td>0.164408</td>\n",
       "      <td>0.132322</td>\n",
       "    </tr>\n",
       "    <tr>\n",
       "      <th>Laps</th>\n",
       "      <td>-0.103469</td>\n",
       "      <td>-0.524463</td>\n",
       "      <td>0.248350</td>\n",
       "      <td>1.000000</td>\n",
       "      <td>0.810019</td>\n",
       "      <td>-0.073243</td>\n",
       "      <td>0.254694</td>\n",
       "      <td>0.504651</td>\n",
       "      <td>0.054212</td>\n",
       "    </tr>\n",
       "    <tr>\n",
       "      <th>Fastest_Lap</th>\n",
       "      <td>-0.057111</td>\n",
       "      <td>-0.424649</td>\n",
       "      <td>0.232005</td>\n",
       "      <td>0.810019</td>\n",
       "      <td>1.000000</td>\n",
       "      <td>-0.091930</td>\n",
       "      <td>0.210149</td>\n",
       "      <td>0.455977</td>\n",
       "      <td>0.101223</td>\n",
       "    </tr>\n",
       "    <tr>\n",
       "      <th>Rank</th>\n",
       "      <td>0.547656</td>\n",
       "      <td>0.570482</td>\n",
       "      <td>-0.538678</td>\n",
       "      <td>-0.073243</td>\n",
       "      <td>-0.091930</td>\n",
       "      <td>1.000000</td>\n",
       "      <td>0.369899</td>\n",
       "      <td>0.225351</td>\n",
       "      <td>-0.058957</td>\n",
       "    </tr>\n",
       "    <tr>\n",
       "      <th>Fastest_Lap_Time (Seg)</th>\n",
       "      <td>0.036675</td>\n",
       "      <td>-0.174136</td>\n",
       "      <td>0.066728</td>\n",
       "      <td>0.254694</td>\n",
       "      <td>0.210149</td>\n",
       "      <td>0.369899</td>\n",
       "      <td>1.000000</td>\n",
       "      <td>0.690914</td>\n",
       "      <td>-0.070338</td>\n",
       "    </tr>\n",
       "    <tr>\n",
       "      <th>Fastest_Lap_Speed (KM/H)</th>\n",
       "      <td>-0.075956</td>\n",
       "      <td>-0.336553</td>\n",
       "      <td>0.164408</td>\n",
       "      <td>0.504651</td>\n",
       "      <td>0.455977</td>\n",
       "      <td>0.225351</td>\n",
       "      <td>0.690914</td>\n",
       "      <td>1.000000</td>\n",
       "      <td>0.088232</td>\n",
       "    </tr>\n",
       "    <tr>\n",
       "      <th>Year</th>\n",
       "      <td>-0.096786</td>\n",
       "      <td>-0.073798</td>\n",
       "      <td>0.132322</td>\n",
       "      <td>0.054212</td>\n",
       "      <td>0.101223</td>\n",
       "      <td>-0.058957</td>\n",
       "      <td>-0.070338</td>\n",
       "      <td>0.088232</td>\n",
       "      <td>1.000000</td>\n",
       "    </tr>\n",
       "  </tbody>\n",
       "</table>\n",
       "</div>"
      ],
      "text/plain": [
       "                              Grid  Position_Order    Points      Laps  \\\n",
       "Grid                      1.000000        0.589778 -0.597760 -0.103469   \n",
       "Position_Order            0.589778        1.000000 -0.792167 -0.524463   \n",
       "Points                   -0.597760       -0.792167  1.000000  0.248350   \n",
       "Laps                     -0.103469       -0.524463  0.248350  1.000000   \n",
       "Fastest_Lap              -0.057111       -0.424649  0.232005  0.810019   \n",
       "Rank                      0.547656        0.570482 -0.538678 -0.073243   \n",
       "Fastest_Lap_Time (Seg)    0.036675       -0.174136  0.066728  0.254694   \n",
       "Fastest_Lap_Speed (KM/H) -0.075956       -0.336553  0.164408  0.504651   \n",
       "Year                     -0.096786       -0.073798  0.132322  0.054212   \n",
       "\n",
       "                          Fastest_Lap      Rank  Fastest_Lap_Time (Seg)  \\\n",
       "Grid                        -0.057111  0.547656                0.036675   \n",
       "Position_Order              -0.424649  0.570482               -0.174136   \n",
       "Points                       0.232005 -0.538678                0.066728   \n",
       "Laps                         0.810019 -0.073243                0.254694   \n",
       "Fastest_Lap                  1.000000 -0.091930                0.210149   \n",
       "Rank                        -0.091930  1.000000                0.369899   \n",
       "Fastest_Lap_Time (Seg)       0.210149  0.369899                1.000000   \n",
       "Fastest_Lap_Speed (KM/H)     0.455977  0.225351                0.690914   \n",
       "Year                         0.101223 -0.058957               -0.070338   \n",
       "\n",
       "                          Fastest_Lap_Speed (KM/H)      Year  \n",
       "Grid                                     -0.075956 -0.096786  \n",
       "Position_Order                           -0.336553 -0.073798  \n",
       "Points                                    0.164408  0.132322  \n",
       "Laps                                      0.504651  0.054212  \n",
       "Fastest_Lap                               0.455977  0.101223  \n",
       "Rank                                      0.225351 -0.058957  \n",
       "Fastest_Lap_Time (Seg)                    0.690914 -0.070338  \n",
       "Fastest_Lap_Speed (KM/H)                  1.000000  0.088232  \n",
       "Year                                      0.088232  1.000000  "
      ]
     },
     "execution_count": 7,
     "metadata": {},
     "output_type": "execute_result"
    }
   ],
   "source": [
    "# Tomar todas las columnas del df que contengan tipo de dato numérico\n",
    "numeric_df = df.select_dtypes(include=['number'])\n",
    "correlation_matrix = numeric_df.corr()\n",
    "correlation_matrix"
   ]
  },
  {
   "cell_type": "code",
   "execution_count": 8,
   "metadata": {},
   "outputs": [
    {
     "data": {
      "image/png": "[encoded data removed]",
      "text/plain": [
       "<Figure size 800x800 with 2 Axes>"
      ]
     },
     "metadata": {},
     "output_type": "display_data"
    }
   ],
   "source": [
    "# Configurar el tema a utilizar\n",
    "sns.set_theme(style=\"white\")\n",
    "\n",
    "# Configurar el tamaño de la figura\n",
    "plt.figure(figsize=(8, 8))\n",
    "\n",
    "# Crear un mapa de calor de la matriz de correlación\n",
    "heatmap = sns.heatmap(correlation_matrix, annot=True, cmap=\"coolwarm\", vmin=-1, vmax=1)\n",
    "\n",
    "# Configurar el título y las etiquetas de los ejes\n",
    "plt.title('Matriz de Correlación')\n",
    "plt.show()"
   ]
  },
  {
   "cell_type": "markdown",
   "metadata": {},
   "source": [
    "### Feature Selection previo a elminacion "
   ]
  },
  {
   "cell_type": "code",
   "execution_count": 9,
   "metadata": {},
   "outputs": [
    {
     "name": "stdout",
     "output_type": "stream",
     "text": [
      "Validation Accuracy after feature selection: 0.385233918128655\n",
      "Test Accuracy after feature selection: 0.38084795321637427\n",
      "Selected Features: ['Grid', 'Points', 'Laps', 'Fastest_Lap', 'Rank', 'Fastest_Lap_Time (Seg)', 'Fastest_Lap_Speed (KM/H)', 'Year', 'Race_Abu Dhabi Grand Prix', 'Race_Australian Grand Prix', 'Race_Austrian Grand Prix', 'Race_Azerbaijan Grand Prix', 'Race_Bahrain Grand Prix', 'Race_Belgian Grand Prix', 'Race_Brazilian Grand Prix', 'Race_British Grand Prix', 'Race_Canadian Grand Prix', 'Race_Chinese Grand Prix', 'Race_Dutch Grand Prix', 'Race_Emilia Romagna Grand Prix', 'Race_European Grand Prix', 'Race_French Grand Prix', 'Race_German Grand Prix', 'Race_Hungarian Grand Prix', 'Race_Indian Grand Prix', 'Race_Italian Grand Prix', 'Race_Japanese Grand Prix', 'Race_Korean Grand Prix', 'Race_Malaysian Grand Prix', 'Race_Mexican Grand Prix', 'Race_Mexico City Grand Prix', 'Race_Miami Grand Prix', 'Race_Monaco Grand Prix', 'Race_Portuguese Grand Prix', 'Race_Russian Grand Prix', 'Race_Saudi Arabian Grand Prix', 'Race_Singapore Grand Prix', 'Race_Spanish Grand Prix', 'Race_Styrian Grand Prix', 'Race_Turkish Grand Prix', 'Race_United States Grand Prix', 'Driver_Adrian Sutil', 'Driver_Alexander Albon', 'Driver_Ambrosio Jerome', 'Driver_Anthony Davidson', 'Driver_Antonio Giovinazzi', 'Driver_Bruno Senna', 'Driver_Carlos Sainz', 'Driver_Charles Leclerc', 'Driver_Charles Pic', 'Driver_Daniel Ricciardo', 'Driver_Daniil Kvyat', 'Driver_David Coulthard', 'Driver_Esteban Gutierrez', 'Driver_Esteban Ocon', 'Driver_Felipe Massa', 'Driver_Felipe Nasr', 'Driver_Fernando Alonso', 'Driver_George Russell', 'Driver_Giancarlo Fisichella', 'Driver_Guanyu Zhou', 'Driver_Heikki Kovalainen', 'Driver_Jaime Alguersuari', 'Driver_Jarno Trulli', 'Driver_Jean Eric Vergne', 'Driver_Jenson Button', 'Driver_Jolyon Palmer', 'Driver_Jules Bianchi', 'Driver_Kamui Kobayashi', 'Driver_Kazuki Nakajima', 'Driver_Kevin Magnussen', 'Driver_Kimi Raikkonen', 'Driver_Lance Stroll', 'Driver_Lando Norris', 'Driver_Lewis Hamilton', 'Driver_Marcus Ericsson', 'Driver_Mark Webber', 'Driver_Max Chilton', 'Driver_Max Verstappen', 'Driver_Michael Schumacher', 'Driver_Mick Schumacher', 'Driver_Narain Karthikeyan', 'Driver_Nelson Piquet Jr', 'Driver_Nicholas Latifi', 'Driver_Nick Heidfeld', 'Driver_Nico Hulkenberg', 'Driver_Nico Rosberg', 'Driver_Nikita Mazepin', 'Driver_Pascal Wehrlein', 'Driver_Pastor Maldonado', 'Driver_Paul Resta', 'Driver_Pedro Rosa', 'Driver_Pierre Gasly', 'Driver_Robert Kubica', 'Driver_Romain Grosjean', 'Driver_Rubens Barrichello', 'Driver_Sebastian Vettel', 'Driver_Sebastien Buemi', 'Driver_Sergey Sirotkin', 'Driver_Sergio Perez', 'Driver_Stoffel Vandoorne', 'Driver_Timo Glock', 'Driver_Valtteri Bottas', 'Driver_Vitaly Petrov', 'Driver_Vitantonio Liuzzi', 'Driver_Yuki Tsunoda', 'Constructor_Alfa', 'Constructor_Alphatauri', 'Constructor_Alpine', 'Constructor_Aston Martin', 'Constructor_Bmw Sauber', 'Constructor_Brawn', 'Constructor_Caterham', 'Constructor_Ferrari', 'Constructor_Force India', 'Constructor_Haas', 'Constructor_Honda', 'Constructor_Hrt', 'Constructor_Lotus F1', 'Constructor_Lotus Racing', 'Constructor_Manor', 'Constructor_Marussia', 'Constructor_Mclaren', 'Constructor_Mercedes', 'Constructor_Racing Point', 'Constructor_Red Bull', 'Constructor_Renault', 'Constructor_Sauber', 'Constructor_Spyker', 'Constructor_Super Aguri', 'Constructor_Toro Rosso', 'Constructor_Toyota', 'Constructor_Virgin', 'Constructor_Williams', 'Circuit_Albert Park', 'Circuit_Americas', 'Circuit_Bahrain', 'Circuit_Baku', 'Circuit_Buddh', 'Circuit_Catalunya', 'Circuit_Fuji', 'Circuit_Hockenheimring', 'Circuit_Hungaroring', 'Circuit_Imola', 'Circuit_Interlagos', 'Circuit_Istanbul', 'Circuit_Jeddah', 'Circuit_Magny Cours', 'Circuit_Marina Bay', 'Circuit_Miami', 'Circuit_Monaco', 'Circuit_Monza', 'Circuit_Nurburgring', 'Circuit_Portimao', 'Circuit_Red Bull Ring', 'Circuit_Ricard', 'Circuit_Rodriguez', 'Circuit_Sepang', 'Circuit_Shanghai', 'Circuit_Silverstone', 'Circuit_Sochi', 'Circuit_Spa', 'Circuit_Suzuka', 'Circuit_Valencia', 'Circuit_Villeneuve', 'Circuit_Yas Marina', 'Circuit_Yeongam', 'Circuit_Zandvoort', 'Status_+1 Lap', 'Status_+2 Laps', 'Status_+3 Laps', 'Status_Accident', 'Status_Brakes', 'Status_Collision', 'Status_Collision Damage', 'Status_Engine', 'Status_Finished', 'Status_Gearbox', 'Status_Hydraulics', 'Status_Power Unit', 'Status_Retired', 'Status_Spun Off', 'Status_Suspension', 'Date_01/08/2021', 'Date_01/09/2019', 'Date_01/11/2009', 'Date_01/12/2019', 'Date_02/08/2020', 'Date_02/09/2012', 'Date_03/08/2008', 'Date_03/11/2013', 'Date_04/04/2010', 'Date_04/06/2023', 'Date_04/07/2021', 'Date_04/09/2016', 'Date_04/11/2012', 'Date_05/07/2015', 'Date_06/04/2014', 'Date_06/07/2014', 'Date_06/10/2013', 'Date_07/06/2009', 'Date_07/10/2012', 'Date_08/04/2018', 'Date_08/07/2012', 'Date_08/07/2018', 'Date_08/09/2013', 'Date_08/09/2019', 'Date_09/05/2010', 'Date_09/07/2023', 'Date_09/09/2012', 'Date_09/10/2011', 'Date_09/10/2016', 'Date_10/04/2011', 'Date_10/05/2009', 'Date_10/05/2015', 'Date_10/06/2012', 'Date_10/07/2011', 'Date_10/10/2010', 'Date_11/06/2017', 'Date_11/07/2010', 'Date_11/09/2011', 'Date_11/11/2018', 'Date_12/06/2011', 'Date_12/09/2010', 'Date_12/10/2008', 'Date_13/05/2012', 'Date_13/05/2018', 'Date_13/06/2010', 'Date_13/09/2009', 'Date_13/10/2013', 'Date_13/11/2011', 'Date_13/11/2016', 'Date_13/11/2022', 'Date_14/04/2013', 'Date_14/05/2017', 'Date_14/09/2008', 'Date_14/11/2010', 'Date_15/03/2015', 'Date_15/04/2012', 'Date_15/11/2020', 'Date_16/03/2008', 'Date_16/03/2014', 'Date_17/03/2013', 'Date_17/04/2011', 'Date_17/04/2016', 'Date_17/11/2013', 'Date_18/03/2012', 'Date_18/09/2016', 'Date_18/11/2012', 'Date_20/04/2014', 'Date_20/06/2021', 'Date_20/11/2022', 'Date_21/04/2013', 'Date_21/06/2015', 'Date_21/10/2007', 'Date_21/10/2018', 'Date_22/04/2012', 'Date_22/06/2014', 'Date_22/07/2012', 'Date_23/10/2016', 'Date_23/11/2014', 'Date_24/07/2011', 'Date_24/08/2014', 'Date_24/10/2010', 'Date_24/10/2021', 'Date_24/11/2013', 'Date_25/03/2012', 'Date_25/06/2017', 'Date_25/07/2010', 'Date_25/11/2012', 'Date_25/11/2018', 'Date_26/03/2017', 'Date_26/07/2015', 'Date_26/08/2018', 'Date_26/11/2017', 'Date_27/03/2011', 'Date_27/04/2008', 'Date_27/05/2007', 'Date_27/05/2018', 'Date_27/06/2010', 'Date_27/11/2011', 'Date_27/11/2016', 'Date_28/03/2010', 'Date_28/07/2013', 'Date_28/07/2019', 'Date_28/08/2011', 'Date_28/08/2016', 'Date_28/09/2008', 'Date_29/03/2009', 'Date_29/05/2011', 'Date_29/07/2012', 'Date_29/11/2015', 'Date_29/11/2020', 'Date_30/04/2023', 'Date_30/06/2013', 'Date_30/08/2020', 'Date_30/10/2011', 'Date_30/10/2016']\n"
     ]
    }
   ],
   "source": [
    "# Preparar datos\n",
    "target_col = \"Position_Order\"\n",
    "X = df.drop(columns=[target_col], axis=1)\n",
    "y = df[target_col]\n",
    "\n",
    "# Dividir los datos\n",
    "X_train, X_temp, y_train, y_temp = train_test_split(X, y, test_size=0.4, random_state=42)\n",
    "X_val, X_test, y_val, y_test = train_test_split(X_temp, y_temp, test_size=0.5, random_state=42)\n",
    "\n",
    "# Columnas categóricas y numéricas\n",
    "categorical_features = X.select_dtypes(include=['object']).columns.tolist()\n",
    "numeric_features = X.select_dtypes(include=['int64', 'float64']).columns.tolist()\n",
    "\n",
    "# Preprocesamiento\n",
    "numeric_transformer = StandardScaler()\n",
    "categorical_transformer = OneHotEncoder(handle_unknown='ignore')\n",
    "\n",
    "preprocessor = ColumnTransformer(\n",
    "    transformers=[\n",
    "        ('num', numeric_transformer, numeric_features),\n",
    "        ('cat', categorical_transformer, categorical_features)\n",
    "    ])\n",
    "\n",
    "# Crear un modelo básico de RandomForest para selección de características\n",
    "feature_selector = SelectFromModel(RandomForestClassifier(random_state=42), threshold='median')\n",
    "\n",
    "# Pipeline para preprocesar y seleccionar características\n",
    "feature_pipeline = Pipeline(steps=[\n",
    "    ('preprocessor', preprocessor),\n",
    "    ('feature_selection', feature_selector),\n",
    "    ('classifier', RandomForestClassifier(random_state=42))\n",
    "])\n",
    "\n",
    "# Entrenar el modelo\n",
    "feature_pipeline.fit(X_train, y_train)\n",
    "\n",
    "# Evaluar en el conjunto de validación\n",
    "val_predictions = feature_pipeline.predict(X_val)\n",
    "val_acc = accuracy_score(y_val, val_predictions)\n",
    "print(f'Validation Accuracy after feature selection: {val_acc}')\n",
    "\n",
    "# Evaluar en el conjunto de prueba\n",
    "test_predictions = feature_pipeline.predict(X_test)\n",
    "test_acc = accuracy_score(y_test, test_predictions)\n",
    "print(f'Test Accuracy after feature selection: {test_acc}')\n",
    "\n",
    "# Obtener las características seleccionadas\n",
    "selected_features = feature_pipeline.named_steps['feature_selection'].get_support()\n",
    "\n",
    "# Obtener los nombres de las características después de la transformación\n",
    "preprocessed_feature_names = list(feature_pipeline.named_steps['preprocessor'].transformers_[0][2]) + \\\n",
    "                             list(feature_pipeline.named_steps['preprocessor'].transformers_[1][1].get_feature_names_out(categorical_features))\n",
    "\n",
    "# Filtrar las características seleccionadas\n",
    "selected_feature_names = [preprocessed_feature_names[i] for i in range(len(preprocessed_feature_names)) if selected_features[i]]\n",
    "print(f'Selected Features: {selected_feature_names}')\n"
   ]
  },
  {
   "cell_type": "code",
   "execution_count": 11,
   "metadata": {},
   "outputs": [
    {
     "name": "stdout",
     "output_type": "stream",
     "text": [
      "Best parameters: {'classifier__bootstrap': True, 'classifier__max_depth': None, 'classifier__min_samples_leaf': 1, 'classifier__min_samples_split': 10, 'classifier__n_estimators': 300}\n",
      "Best cross-validation accuracy: 0.40702623213808264\n"
     ]
    }
   ],
   "source": [
    "# Definir el Grid de parámetros para utilizar en GridSearchCV\n",
    "param_Grid = {\n",
    "    'classifier__n_estimators': [300, 350, 400],\n",
    "    'classifier__max_depth': [None, 10, 20],\n",
    "    'classifier__min_samples_split': [2, 5, 10],\n",
    "    'classifier__min_samples_leaf': [1, 2, 3],\n",
    "    'classifier__bootstrap': [True, False]\n",
    "}\n",
    "\n",
    "# Hiperparametrizar el modelo\n",
    "Grid_search = GridSearchCV(feature_pipeline, param_Grid, cv=5, scoring='accuracy', n_jobs=-1)\n",
    "Grid_search.fit(X_train, y_train)\n",
    "\n",
    "print(f'Best parameters: {Grid_search.best_params_}')\n",
    "print(f'Best cross-validation accuracy: {Grid_search.best_score_}')"
   ]
  },
  {
   "cell_type": "code",
   "execution_count": 12,
   "metadata": {},
   "outputs": [
    {
     "name": "stdout",
     "output_type": "stream",
     "text": [
      "Accuracy de validación para el mejor RandomForest: 0.4283625730994152\n"
     ]
    }
   ],
   "source": [
    "# Utilizar el best_estimator_ para tomar los mejores parámetros del GridSearch y entrenar el modelo con Train\n",
    "feature_best_model = Grid_search.best_estimator_\n",
    "feature_best_model.fit(X_train, y_train)\n",
    "\n",
    "# Evaluar la predicción con el conjunto de validación\n",
    "val_predictions = feature_best_model.predict(X_val)\n",
    "val_acc = accuracy_score(y_val, val_predictions)\n",
    "print(f'Accuracy de validación para el mejor RandomForest: {val_acc}')"
   ]
  },
  {
   "cell_type": "code",
   "execution_count": 13,
   "metadata": {},
   "outputs": [
    {
     "name": "stdout",
     "output_type": "stream",
     "text": [
      "Accuracy en Test para el RandomForest tuneado: 0.4093567251461988\n"
     ]
    }
   ],
   "source": [
    "# Obtener las predicciones contra el Test\n",
    "test_predictions = feature_best_model.predict(X_test)\n",
    "test_acc = accuracy_score(y_test, test_predictions)\n",
    "print(f'Accuracy en Test para el RandomForest tuneado: {test_acc}')"
   ]
  },
  {
   "cell_type": "code",
   "execution_count": 14,
   "metadata": {},
   "outputs": [
    {
     "name": "stdout",
     "output_type": "stream",
     "text": [
      "Modelo guardado exitosamente.\n"
     ]
    }
   ],
   "source": [
    "# Guardamos el modelo best_rf_modelo para reutilizarlo\n",
    "with open('../Models/feature_best_model.pkl', 'wb') as file:\n",
    "    pickle.dump(feature_best_model, file)\n",
    "print(\"Modelo guardado exitosamente.\")"
   ]
  },
  {
   "cell_type": "code",
   "execution_count": 8,
   "metadata": {},
   "outputs": [],
   "source": [
    "# Eliminar las columnas debido a que son datos que no se conocen al momento de iniciar la carrera\n",
    "df.drop(columns=['Points', \"Fastest_Lap\", \"Fastest_Lap_Time (Seg)\",\"Fastest_Lap_Speed (KM/H)\", \"Status\"], inplace=True)"
   ]
  },
  {
   "cell_type": "markdown",
   "metadata": {},
   "source": [
    "### Definición de Target"
   ]
  },
  {
   "cell_type": "code",
   "execution_count": 9,
   "metadata": {},
   "outputs": [],
   "source": [
    "# Definimos nuestro target\n",
    "target_col = \"Position_Order\"\n",
    "# Separar las características y el target\n",
    "X = df.drop(columns=[target_col], axis=1) \n",
    "y = df[target_col] "
   ]
  },
  {
   "cell_type": "markdown",
   "metadata": {},
   "source": [
    "### Train/Validation/Test Split"
   ]
  },
  {
   "cell_type": "code",
   "execution_count": 10,
   "metadata": {},
   "outputs": [],
   "source": [
    "# Dividir los datos en conjuntos de entrenamiento, validación y prueba\n",
    "X_train, X_temp, y_train, y_temp = train_test_split(X, y, test_size=0.4, random_state=42)\n",
    "X_val, X_test, y_val, y_test = train_test_split(X_temp, y_temp, test_size=0.5, random_state=42)"
   ]
  },
  {
   "cell_type": "markdown",
   "metadata": {},
   "source": [
    "### Baseline Dummy Classifier"
   ]
  },
  {
   "cell_type": "code",
   "execution_count": 17,
   "metadata": {},
   "outputs": [
    {
     "name": "stdout",
     "output_type": "stream",
     "text": [
      "Baseline DummyClassifier Accuracy: 0.035818713450292396\n"
     ]
    }
   ],
   "source": [
    "# Baseline DummyClassifier para comparar con nuestro modelo\n",
    "dummy = DummyClassifier(strategy='most_frequent')\n",
    "dummy.fit(X_train, y_train)\n",
    "dummy_preds = dummy.predict(X_test)\n",
    "dummy_accuracy = accuracy_score(y_test, dummy_preds)\n",
    "print(f'Baseline DummyClassifier Accuracy: {dummy_accuracy}')"
   ]
  },
  {
   "cell_type": "markdown",
   "metadata": {},
   "source": [
    "### Pipeline con Feature Selection"
   ]
  },
  {
   "cell_type": "code",
   "execution_count": 16,
   "metadata": {},
   "outputs": [
    {
     "name": "stdout",
     "output_type": "stream",
     "text": [
      "Validation Accuracy after feature selection: 0.15789473684210525\n",
      "Test Accuracy after feature selection: 0.13450292397660818\n",
      "Selected Features: ['Grid', 'Laps', 'Rank', 'Year', 'Race_Abu Dhabi Grand Prix', 'Race_Australian Grand Prix', 'Race_Austrian Grand Prix', 'Race_Azerbaijan Grand Prix', 'Race_Bahrain Grand Prix', 'Race_Belgian Grand Prix', 'Race_Brazilian Grand Prix', 'Race_British Grand Prix', 'Race_Canadian Grand Prix', 'Race_Chinese Grand Prix', 'Race_Dutch Grand Prix', 'Race_Emilia Romagna Grand Prix', 'Race_European Grand Prix', 'Race_French Grand Prix', 'Race_German Grand Prix', 'Race_Hungarian Grand Prix', 'Race_Indian Grand Prix', 'Race_Italian Grand Prix', 'Race_Japanese Grand Prix', 'Race_Korean Grand Prix', 'Race_Malaysian Grand Prix', 'Race_Mexican Grand Prix', 'Race_Mexico City Grand Prix', 'Race_Miami Grand Prix', 'Race_Monaco Grand Prix', 'Race_Portuguese Grand Prix', 'Race_Russian Grand Prix', 'Race_Saudi Arabian Grand Prix', 'Race_Singapore Grand Prix', 'Race_Spanish Grand Prix', 'Race_Styrian Grand Prix', 'Race_Turkish Grand Prix', 'Race_United States Grand Prix', 'Driver_Adrian Sutil', 'Driver_Alexander Albon', 'Driver_Antonio Giovinazzi', 'Driver_Bruno Senna', 'Driver_Carlos Sainz', 'Driver_Charles Leclerc', 'Driver_Daniel Ricciardo', 'Driver_Daniil Kvyat', 'Driver_Esteban Gutierrez', 'Driver_Esteban Ocon', 'Driver_Felipe Massa', 'Driver_Felipe Nasr', 'Driver_Fernando Alonso', 'Driver_George Russell', 'Driver_Giancarlo Fisichella', 'Driver_Guanyu Zhou', 'Driver_Heikki Kovalainen', 'Driver_Jaime Alguersuari', 'Driver_Jarno Trulli', 'Driver_Jean Eric Vergne', 'Driver_Jenson Button', 'Driver_Jolyon Palmer', 'Driver_Kamui Kobayashi', 'Driver_Kazuki Nakajima', 'Driver_Kevin Magnussen', 'Driver_Kimi Raikkonen', 'Driver_Lance Stroll', 'Driver_Lando Norris', 'Driver_Lewis Hamilton', 'Driver_Marcus Ericsson', 'Driver_Mark Webber', 'Driver_Max Verstappen', 'Driver_Michael Schumacher', 'Driver_Mick Schumacher', 'Driver_Nicholas Latifi', 'Driver_Nick Heidfeld', 'Driver_Nico Hulkenberg', 'Driver_Nico Rosberg', 'Driver_Pascal Wehrlein', 'Driver_Pastor Maldonado', 'Driver_Paul Resta', 'Driver_Pedro Rosa', 'Driver_Pierre Gasly', 'Driver_Robert Kubica', 'Driver_Romain Grosjean', 'Driver_Rubens Barrichello', 'Driver_Sebastian Vettel', 'Driver_Sebastien Buemi', 'Driver_Sergio Perez', 'Driver_Stoffel Vandoorne', 'Driver_Timo Glock', 'Driver_Valtteri Bottas', 'Driver_Vitaly Petrov', 'Driver_Vitantonio Liuzzi', 'Driver_Yuki Tsunoda', 'Constructor_Alfa', 'Constructor_Alphatauri', 'Constructor_Alpine', 'Constructor_Aston Martin', 'Constructor_Bmw Sauber', 'Constructor_Caterham', 'Constructor_Ferrari', 'Constructor_Force India', 'Constructor_Haas', 'Constructor_Honda', 'Constructor_Hrt', 'Constructor_Lotus F1', 'Constructor_Lotus Racing', 'Constructor_Manor', 'Constructor_Marussia', 'Constructor_Mclaren', 'Constructor_Mercedes', 'Constructor_Racing Point', 'Constructor_Red Bull', 'Constructor_Renault', 'Constructor_Sauber', 'Constructor_Toro Rosso', 'Constructor_Toyota', 'Constructor_Virgin', 'Constructor_Williams', 'Circuit_Albert Park', 'Circuit_Americas', 'Circuit_Bahrain', 'Circuit_Baku', 'Circuit_Buddh', 'Circuit_Catalunya', 'Circuit_Fuji', 'Circuit_Hockenheimring', 'Circuit_Hungaroring', 'Circuit_Imola', 'Circuit_Interlagos', 'Circuit_Istanbul', 'Circuit_Jeddah', 'Circuit_Magny Cours', 'Circuit_Marina Bay', 'Circuit_Monaco', 'Circuit_Monza', 'Circuit_Nurburgring', 'Circuit_Portimao', 'Circuit_Red Bull Ring', 'Circuit_Ricard', 'Circuit_Rodriguez', 'Circuit_Sepang', 'Circuit_Shanghai', 'Circuit_Silverstone', 'Circuit_Sochi', 'Circuit_Spa', 'Circuit_Suzuka', 'Circuit_Valencia', 'Circuit_Villeneuve', 'Circuit_Yas Marina', 'Circuit_Yeongam', 'Circuit_Zandvoort', 'Date_01/07/2018', 'Date_01/09/2019', 'Date_01/11/2009', 'Date_01/12/2019', 'Date_02/08/2020', 'Date_02/09/2018', 'Date_03/11/2013', 'Date_04/04/2010', 'Date_04/09/2016', 'Date_04/11/2012', 'Date_05/07/2015', 'Date_05/07/2020', 'Date_05/10/2014', 'Date_06/04/2014', 'Date_06/07/2014', 'Date_07/06/2009', 'Date_07/07/2013', 'Date_07/09/2008', 'Date_07/10/2012', 'Date_07/11/2010', 'Date_08/06/2008', 'Date_08/07/2012', 'Date_08/07/2018', 'Date_08/09/2019', 'Date_09/05/2010', 'Date_09/07/2017', 'Date_09/09/2012', 'Date_09/10/2011', 'Date_09/10/2016', 'Date_10/04/2011', 'Date_10/05/2015', 'Date_10/06/2012', 'Date_10/07/2011', 'Date_10/07/2016', 'Date_11/06/2017', 'Date_11/07/2010', 'Date_11/11/2018', 'Date_12/05/2013', 'Date_12/06/2016', 'Date_12/09/2010', 'Date_13/05/2012', 'Date_13/06/2010', 'Date_13/09/2009', 'Date_13/10/2013', 'Date_13/11/2011', 'Date_13/11/2016', 'Date_13/11/2022', 'Date_14/05/2017', 'Date_14/11/2010', 'Date_15/04/2012', 'Date_15/04/2018', 'Date_15/11/2020', 'Date_16/03/2008', 'Date_16/03/2014', 'Date_16/07/2017', 'Date_17/03/2013', 'Date_17/04/2011', 'Date_17/11/2019', 'Date_18/03/2012', 'Date_18/04/2010', 'Date_18/09/2016', 'Date_18/11/2012', 'Date_19/04/2009', 'Date_20/04/2014', 'Date_21/04/2013', 'Date_21/10/2018', 'Date_22/04/2012', 'Date_22/07/2012', 'Date_22/07/2018', 'Date_23/07/2023', 'Date_23/09/2012', 'Date_23/10/2016', 'Date_24/03/2013', 'Date_24/05/2015', 'Date_24/07/2011', 'Date_24/08/2014', 'Date_24/10/2010', 'Date_24/10/2021', 'Date_24/11/2013', 'Date_25/03/2012', 'Date_25/05/2008', 'Date_25/06/2017', 'Date_25/07/2010', 'Date_25/09/2011', 'Date_25/11/2012', 'Date_25/11/2018', 'Date_26/05/2019', 'Date_26/06/2011', 'Date_26/07/2015', 'Date_26/11/2017', 'Date_27/03/2011', 'Date_27/03/2022', 'Date_27/04/2008', 'Date_27/05/2018', 'Date_27/06/2010', 'Date_27/11/2011', 'Date_28/05/2017', 'Date_28/07/2019', 'Date_28/08/2011', 'Date_28/08/2016', 'Date_29/05/2011', 'Date_29/07/2012', 'Date_29/11/2015', 'Date_29/11/2020', 'Date_30/06/2013', 'Date_30/06/2019', 'Date_30/07/2017', 'Date_30/08/2009', 'Date_30/09/2007']\n"
     ]
    }
   ],
   "source": [
    "# Columnas categóricas y numéricas\n",
    "categorical_features = X.select_dtypes(include=['object']).columns.tolist()\n",
    "numeric_features = X.select_dtypes(include=['int64', 'float64']).columns.tolist()\n",
    "\n",
    "# Preprocesamiento\n",
    "numeric_transformer = StandardScaler()\n",
    "categorical_transformer = OneHotEncoder(handle_unknown='ignore')\n",
    "\n",
    "preprocessor = ColumnTransformer(\n",
    "    transformers=[\n",
    "        ('num', numeric_transformer, numeric_features),\n",
    "        ('cat', categorical_transformer, categorical_features)\n",
    "    ])\n",
    "\n",
    "# Crear un modelo básico de RandomForest para selección de características\n",
    "feature_selector = SelectFromModel(RandomForestClassifier(random_state=42), threshold='median')\n",
    "\n",
    "# Pipeline para preprocesar y seleccionar características\n",
    "rf_pipeline = Pipeline(steps=[\n",
    "    ('preprocessor', preprocessor),\n",
    "    ('feature_selection', feature_selector),\n",
    "    ('classifier', RandomForestClassifier(random_state=42))\n",
    "])\n",
    "\n",
    "# Entrenar el modelo\n",
    "rf_pipeline.fit(X_train, y_train)\n",
    "\n",
    "# Evaluar en el conjunto de validación\n",
    "val_predictions = rf_pipeline.predict(X_val)\n",
    "val_acc = accuracy_score(y_val, val_predictions)\n",
    "print(f'Validation Accuracy after feature selection: {val_acc}')\n",
    "\n",
    "# Evaluar en el conjunto de prueba\n",
    "test_predictions = rf_pipeline.predict(X_test)\n",
    "test_acc = accuracy_score(y_test, test_predictions)\n",
    "print(f'Test Accuracy after feature selection: {test_acc}')\n",
    "\n",
    "# Obtener las características seleccionadas\n",
    "selected_features = rf_pipeline.named_steps['feature_selection'].get_support()\n",
    "\n",
    "# Obtener los nombres de las características después de la transformación\n",
    "preprocessed_feature_names = list(rf_pipeline.named_steps['preprocessor'].transformers_[0][2]) + \\\n",
    "                             list(rf_pipeline.named_steps['preprocessor'].transformers_[1][1].get_feature_names_out(categorical_features))\n",
    "\n",
    "# Filtrar las características seleccionadas\n",
    "selected_feature_names = [preprocessed_feature_names[i] for i in range(len(preprocessed_feature_names)) if selected_features[i]]\n",
    "print(f'Selected Features: {selected_feature_names}')\n"
   ]
  },
  {
   "cell_type": "markdown",
   "metadata": {},
   "source": [
    "### Obtención de Features Categoricas"
   ]
  },
  {
   "cell_type": "code",
   "execution_count": 18,
   "metadata": {},
   "outputs": [
    {
     "data": {
      "text/plain": [
       "['Driver', 'Constructor']"
      ]
     },
     "execution_count": 18,
     "metadata": {},
     "output_type": "execute_result"
    }
   ],
   "source": [
    "# Lista vacía para almacenar las features categóricas\n",
    "cat_feature_1 = []\n",
    "# Seleccionar todas las columnas de nuestro df que corresponden a tipo de dato object y las pasamos a una lista\n",
    "categorical_columns = df.select_dtypes(include=['object']).columns.tolist()\n",
    "\n",
    "for col in categorical_columns:\n",
    "    grouped = df.groupby(col)[target_col].apply(list).to_dict()\n",
    "    feature_values = []\n",
    "    for key, value in grouped.items():\n",
    "        # Verificar que la lista no esté vacía y tenga más de un valor único\n",
    "        if len(value) > 1 and len(set(value)) > 1:\n",
    "            feature_values.append(value)\n",
    "    \n",
    "    if len(feature_values) > 1:  # Asegurar tener más de un grupo para ANOVA\n",
    "        f_val, p_val = stats.f_oneway(*feature_values)\n",
    "        if p_val <= 0.05:\n",
    "            cat_feature_1.append(col)\n",
    "\n",
    "cat_feature_1"
   ]
  },
  {
   "cell_type": "code",
   "execution_count": 19,
   "metadata": {},
   "outputs": [
    {
     "data": {
      "text/plain": [
       "['Race', 'Circuit']"
      ]
     },
     "execution_count": 19,
     "metadata": {},
     "output_type": "execute_result"
    }
   ],
   "source": [
    "# Incluir las features categóricas restantes\n",
    "cat_feature_2 = ['Race', 'Circuit']\n",
    "cat_feature_2"
   ]
  },
  {
   "cell_type": "markdown",
   "metadata": {},
   "source": [
    "### Obtención de Features Númericas"
   ]
  },
  {
   "cell_type": "code",
   "execution_count": 20,
   "metadata": {},
   "outputs": [
    {
     "data": {
      "text/plain": [
       "['Grid', 'Laps', 'Rank']"
      ]
     },
     "execution_count": 20,
     "metadata": {},
     "output_type": "execute_result"
    }
   ],
   "source": [
    "# Lista vacía para almacenar las features númericas\n",
    "num_feature_1 = []\n",
    "\n",
    "# Seleccionar todas las columnas de nuestro df que corresponden a tipo de dato númericas y las pasamos a una lista\n",
    "numerical_columns = df.select_dtypes(include=['int8', 'int16', 'int32', 'int64', 'float16','float32', 'float64']).columns.tolist()\n",
    "\n",
    "# Eliminar la columna objetivo de la lista de columnas numéricas\n",
    "numerical_columns.remove(target_col)\n",
    "\n",
    "# Iterar sobre cada columna numérica\n",
    "for col in numerical_columns:\n",
    "    # Calcular la correlación de Pearson entre la columna objetivo y la columna actual\n",
    "    corr, p_value = pearsonr(df[target_col], df[col])\n",
    "    \n",
    "    # Agregar la columna a la lista si cumple con los criterios de correlación y significancia\n",
    "    if abs(corr) >= 0.3 and p_value <= 0.05:\n",
    "        num_feature_1.append(col)\n",
    "        \n",
    "num_feature_1"
   ]
  },
  {
   "cell_type": "markdown",
   "metadata": {},
   "source": [
    "### Pipelines de Modelos"
   ]
  },
  {
   "cell_type": "code",
   "execution_count": 22,
   "metadata": {},
   "outputs": [],
   "source": [
    "# Identificar las columnas categóricas y numéricas\n",
    "categorical_features = cat_feature_1 + cat_feature_2\n",
    "numerical_features = num_feature_1\n",
    "\n",
    "# Preprocesamiento de features numéricas y categóricas\n",
    "numerical_transformer = StandardScaler()\n",
    "categorical_transformer = TargetEncoder()\n",
    "\n",
    "preprocessor = ColumnTransformer(\n",
    "    transformers=[\n",
    "        ('num', numerical_transformer, numerical_features),\n",
    "        ('cat', categorical_transformer, categorical_features)])\n",
    "\n",
    "# Crear el pipeline\n",
    "rf_pipeline = Pipeline(steps=[('preprocessor', preprocessor),\n",
    "                           ('classifier', RandomForestClassifier(random_state=42))])\n",
    "\n",
    "lgbm_pipeline = Pipeline(steps=[(\"preprocessor\", preprocessor),\n",
    "                                (\"classifier\", LGBMClassifier(random_state=42))])\n",
    "\n",
    "catboost_pipeline = Pipeline(steps=[(\"preprocessor\", preprocessor),\n",
    "                                    (\"classifier\", CatBoostClassifier(random_state=42, silent=True))])\n"
   ]
  },
  {
   "cell_type": "code",
   "execution_count": 24,
   "metadata": {},
   "outputs": [
    {
     "name": "stdout",
     "output_type": "stream",
     "text": [
      "[LightGBM] [Info] Auto-choosing row-wise multi-threading, the overhead of testing was 0.001406 seconds.\n",
      "You can set `force_row_wise=true` to remove the overhead.\n",
      "And if memory is not enough, you can set `force_col_wise=true`.\n",
      "[LightGBM] [Info] Total Bins 12574\n",
      "[LightGBM] [Info] Number of data points in the train set: 3282, number of used features: 99\n",
      "[LightGBM] [Info] Start training from score -2.990263\n",
      "[LightGBM] [Info] Start training from score -3.119475\n",
      "[LightGBM] [Info] Start training from score -3.033613\n",
      "[LightGBM] [Info] Start training from score -3.059256\n",
      "[LightGBM] [Info] Start training from score -3.072328\n",
      "[LightGBM] [Info] Start training from score -3.092262\n",
      "[LightGBM] [Info] Start training from score -2.996342\n",
      "[LightGBM] [Info] Start training from score -2.954545\n",
      "[LightGBM] [Info] Start training from score -3.052783\n",
      "[LightGBM] [Info] Start training from score -3.105776\n",
      "[LightGBM] [Info] Start training from score -3.126395\n",
      "[LightGBM] [Info] Start training from score -3.039962\n",
      "[LightGBM] [Info] Start training from score -3.052783\n",
      "[LightGBM] [Info] Start training from score -3.008612\n",
      "[LightGBM] [Info] Start training from score -3.105776\n",
      "[LightGBM] [Info] Start training from score -3.052783\n",
      "[LightGBM] [Info] Start training from score -2.996342\n",
      "[LightGBM] [Info] Start training from score -3.039962\n",
      "[LightGBM] [Info] Start training from score -3.133364\n",
      "[LightGBM] [Info] Start training from score -3.126395\n",
      "[LightGBM] [Info] Start training from score -3.819542\n",
      "[LightGBM] [Info] Start training from score -4.001864\n",
      "[LightGBM] [Info] Start training from score -4.599701\n",
      "[LightGBM] [Info] Start training from score -4.728912\n",
      "[LightGBM] [Warning] No further splits with positive gain, best gain: -inf\n",
      "[LightGBM] [Warning] No further splits with positive gain, best gain: -inf\n",
      "[LightGBM] [Warning] No further splits with positive gain, best gain: -inf\n",
      "[LightGBM] [Warning] No further splits with positive gain, best gain: -inf\n",
      "[LightGBM] [Warning] No further splits with positive gain, best gain: -inf\n",
      "[LightGBM] [Warning] No further splits with positive gain, best gain: -inf\n",
      "[LightGBM] [Warning] No further splits with positive gain, best gain: -inf\n",
      "[LightGBM] [Warning] No further splits with positive gain, best gain: -inf\n",
      "[LightGBM] [Warning] No further splits with positive gain, best gain: -inf\n",
      "[LightGBM] [Warning] No further splits with positive gain, best gain: -inf\n",
      "[LightGBM] [Warning] No further splits with positive gain, best gain: -inf\n",
      "[LightGBM] [Warning] No further splits with positive gain, best gain: -inf\n",
      "[LightGBM] [Warning] No further splits with positive gain, best gain: -inf\n",
      "[LightGBM] [Warning] No further splits with positive gain, best gain: -inf\n",
      "[LightGBM] [Warning] No further splits with positive gain, best gain: -inf\n",
      "[LightGBM] [Warning] No further splits with positive gain, best gain: -inf\n",
      "[LightGBM] [Warning] No further splits with positive gain, best gain: -inf\n",
      "[LightGBM] [Warning] No further splits with positive gain, best gain: -inf\n",
      "[LightGBM] [Warning] No further splits with positive gain, best gain: -inf\n",
      "[LightGBM] [Warning] No further splits with positive gain, best gain: -inf\n",
      "[LightGBM] [Warning] No further splits with positive gain, best gain: -inf\n",
      "[LightGBM] [Warning] No further splits with positive gain, best gain: -inf\n",
      "[LightGBM] [Warning] No further splits with positive gain, best gain: -inf\n",
      "[LightGBM] [Warning] No further splits with positive gain, best gain: -inf\n",
      "[LightGBM] [Warning] No further splits with positive gain, best gain: -inf\n",
      "[LightGBM] [Warning] No further splits with positive gain, best gain: -inf\n",
      "[LightGBM] [Warning] No further splits with positive gain, best gain: -inf\n",
      "[LightGBM] [Warning] No further splits with positive gain, best gain: -inf\n",
      "[LightGBM] [Warning] No further splits with positive gain, best gain: -inf\n",
      "[LightGBM] [Warning] No further splits with positive gain, best gain: -inf\n",
      "[LightGBM] [Warning] No further splits with positive gain, best gain: -inf\n",
      "[LightGBM] [Warning] No further splits with positive gain, best gain: -inf\n",
      "[LightGBM] [Warning] No further splits with positive gain, best gain: -inf\n",
      "[LightGBM] [Warning] No further splits with positive gain, best gain: -inf\n",
      "[LightGBM] [Warning] No further splits with positive gain, best gain: -inf\n",
      "[LightGBM] [Warning] No further splits with positive gain, best gain: -inf\n",
      "[LightGBM] [Warning] No further splits with positive gain, best gain: -inf\n",
      "[LightGBM] [Warning] No further splits with positive gain, best gain: -inf\n",
      "[LightGBM] [Warning] No further splits with positive gain, best gain: -inf\n",
      "[LightGBM] [Warning] No further splits with positive gain, best gain: -inf\n",
      "[LightGBM] [Warning] No further splits with positive gain, best gain: -inf\n",
      "[LightGBM] [Warning] No further splits with positive gain, best gain: -inf\n",
      "[LightGBM] [Warning] No further splits with positive gain, best gain: -inf\n",
      "[LightGBM] [Warning] No further splits with positive gain, best gain: -inf\n",
      "[LightGBM] [Warning] No further splits with positive gain, best gain: -inf\n",
      "[LightGBM] [Warning] No further splits with positive gain, best gain: -inf\n",
      "[LightGBM] [Warning] No further splits with positive gain, best gain: -inf\n",
      "[LightGBM] [Warning] No further splits with positive gain, best gain: -inf\n",
      "[LightGBM] [Warning] No further splits with positive gain, best gain: -inf\n",
      "[LightGBM] [Warning] No further splits with positive gain, best gain: -inf\n",
      "[LightGBM] [Warning] No further splits with positive gain, best gain: -inf\n",
      "[LightGBM] [Warning] No further splits with positive gain, best gain: -inf\n",
      "[LightGBM] [Warning] No further splits with positive gain, best gain: -inf\n",
      "[LightGBM] [Warning] No further splits with positive gain, best gain: -inf\n",
      "[LightGBM] [Warning] No further splits with positive gain, best gain: -inf\n",
      "[LightGBM] [Warning] No further splits with positive gain, best gain: -inf\n",
      "[LightGBM] [Warning] No further splits with positive gain, best gain: -inf\n",
      "[LightGBM] [Warning] No further splits with positive gain, best gain: -inf\n",
      "[LightGBM] [Warning] No further splits with positive gain, best gain: -inf\n",
      "[LightGBM] [Warning] No further splits with positive gain, best gain: -inf\n",
      "[LightGBM] [Warning] No further splits with positive gain, best gain: -inf\n",
      "[LightGBM] [Warning] No further splits with positive gain, best gain: -inf\n",
      "[LightGBM] [Warning] No further splits with positive gain, best gain: -inf\n",
      "[LightGBM] [Warning] No further splits with positive gain, best gain: -inf\n",
      "[LightGBM] [Warning] No further splits with positive gain, best gain: -inf\n",
      "[LightGBM] [Warning] No further splits with positive gain, best gain: -inf\n",
      "[LightGBM] [Warning] No further splits with positive gain, best gain: -inf\n",
      "[LightGBM] [Warning] No further splits with positive gain, best gain: -inf\n",
      "[LightGBM] [Warning] No further splits with positive gain, best gain: -inf\n",
      "[LightGBM] [Warning] No further splits with positive gain, best gain: -inf\n",
      "[LightGBM] [Warning] No further splits with positive gain, best gain: -inf\n",
      "[LightGBM] [Warning] No further splits with positive gain, best gain: -inf\n",
      "[LightGBM] [Warning] No further splits with positive gain, best gain: -inf\n",
      "[LightGBM] [Warning] No further splits with positive gain, best gain: -inf\n",
      "[LightGBM] [Warning] No further splits with positive gain, best gain: -inf\n",
      "[LightGBM] [Warning] No further splits with positive gain, best gain: -inf\n",
      "[LightGBM] [Warning] No further splits with positive gain, best gain: -inf\n",
      "[LightGBM] [Warning] No further splits with positive gain, best gain: -inf\n",
      "[LightGBM] [Warning] No further splits with positive gain, best gain: -inf\n",
      "[LightGBM] [Warning] No further splits with positive gain, best gain: -inf\n",
      "[LightGBM] [Warning] No further splits with positive gain, best gain: -inf\n",
      "[LightGBM] [Warning] No further splits with positive gain, best gain: -inf\n",
      "[LightGBM] [Warning] No further splits with positive gain, best gain: -inf\n",
      "[LightGBM] [Warning] No further splits with positive gain, best gain: -inf\n",
      "[LightGBM] [Warning] No further splits with positive gain, best gain: -inf\n",
      "[LightGBM] [Warning] No further splits with positive gain, best gain: -inf\n",
      "[LightGBM] [Warning] No further splits with positive gain, best gain: -inf\n",
      "[LightGBM] [Warning] No further splits with positive gain, best gain: -inf\n",
      "[LightGBM] [Warning] No further splits with positive gain, best gain: -inf\n",
      "[LightGBM] [Warning] No further splits with positive gain, best gain: -inf\n",
      "[LightGBM] [Warning] No further splits with positive gain, best gain: -inf\n",
      "[LightGBM] [Warning] No further splits with positive gain, best gain: -inf\n",
      "[LightGBM] [Warning] No further splits with positive gain, best gain: -inf\n",
      "[LightGBM] [Warning] No further splits with positive gain, best gain: -inf\n",
      "[LightGBM] [Warning] No further splits with positive gain, best gain: -inf\n",
      "[LightGBM] [Info] Auto-choosing col-wise multi-threading, the overhead of testing was 0.001752 seconds.\n",
      "You can set `force_col_wise=true` to remove the overhead.\n",
      "[LightGBM] [Info] Total Bins 12683\n",
      "[LightGBM] [Info] Number of data points in the train set: 3282, number of used features: 99\n",
      "[LightGBM] [Info] Start training from score -2.990263\n",
      "[LightGBM] [Info] Start training from score -3.126395\n",
      "[LightGBM] [Info] Start training from score -3.033613\n",
      "[LightGBM] [Info] Start training from score -3.059256\n",
      "[LightGBM] [Info] Start training from score -3.072328\n",
      "[LightGBM] [Info] Start training from score -3.092262\n",
      "[LightGBM] [Info] Start training from score -2.990263\n",
      "[LightGBM] [Info] Start training from score -2.954545\n",
      "[LightGBM] [Info] Start training from score -3.059256\n",
      "[LightGBM] [Info] Start training from score -3.098996\n",
      "[LightGBM] [Info] Start training from score -3.119475\n",
      "[LightGBM] [Info] Start training from score -3.046352\n",
      "[LightGBM] [Info] Start training from score -3.046352\n",
      "[LightGBM] [Info] Start training from score -3.008612\n",
      "[LightGBM] [Info] Start training from score -3.105776\n",
      "[LightGBM] [Info] Start training from score -3.052783\n",
      "[LightGBM] [Info] Start training from score -2.996342\n",
      "[LightGBM] [Info] Start training from score -3.039962\n",
      "[LightGBM] [Info] Start training from score -3.126395\n",
      "[LightGBM] [Info] Start training from score -3.133364\n",
      "[LightGBM] [Info] Start training from score -3.819542\n",
      "[LightGBM] [Info] Start training from score -4.001864\n",
      "[LightGBM] [Info] Start training from score -4.630472\n",
      "[LightGBM] [Info] Start training from score -4.728912\n",
      "[LightGBM] [Warning] No further splits with positive gain, best gain: -inf\n",
      "[LightGBM] [Warning] No further splits with positive gain, best gain: -inf\n",
      "[LightGBM] [Warning] No further splits with positive gain, best gain: -inf\n",
      "[LightGBM] [Warning] No further splits with positive gain, best gain: -inf\n",
      "[LightGBM] [Warning] No further splits with positive gain, best gain: -inf\n",
      "[LightGBM] [Warning] No further splits with positive gain, best gain: -inf\n",
      "[LightGBM] [Warning] No further splits with positive gain, best gain: -inf\n",
      "[LightGBM] [Warning] No further splits with positive gain, best gain: -inf\n",
      "[LightGBM] [Warning] No further splits with positive gain, best gain: -inf\n",
      "[LightGBM] [Warning] No further splits with positive gain, best gain: -inf\n",
      "[LightGBM] [Warning] No further splits with positive gain, best gain: -inf\n",
      "[LightGBM] [Warning] No further splits with positive gain, best gain: -inf\n",
      "[LightGBM] [Warning] No further splits with positive gain, best gain: -inf\n",
      "[LightGBM] [Warning] No further splits with positive gain, best gain: -inf\n",
      "[LightGBM] [Warning] No further splits with positive gain, best gain: -inf\n",
      "[LightGBM] [Warning] No further splits with positive gain, best gain: -inf\n",
      "[LightGBM] [Warning] No further splits with positive gain, best gain: -inf\n",
      "[LightGBM] [Warning] No further splits with positive gain, best gain: -inf\n",
      "[LightGBM] [Warning] No further splits with positive gain, best gain: -inf\n",
      "[LightGBM] [Warning] No further splits with positive gain, best gain: -inf\n",
      "[LightGBM] [Warning] No further splits with positive gain, best gain: -inf\n",
      "[LightGBM] [Warning] No further splits with positive gain, best gain: -inf\n",
      "[LightGBM] [Warning] No further splits with positive gain, best gain: -inf\n",
      "[LightGBM] [Warning] No further splits with positive gain, best gain: -inf\n",
      "[LightGBM] [Warning] No further splits with positive gain, best gain: -inf\n",
      "[LightGBM] [Warning] No further splits with positive gain, best gain: -inf\n",
      "[LightGBM] [Warning] No further splits with positive gain, best gain: -inf\n",
      "[LightGBM] [Warning] No further splits with positive gain, best gain: -inf\n",
      "[LightGBM] [Warning] No further splits with positive gain, best gain: -inf\n",
      "[LightGBM] [Warning] No further splits with positive gain, best gain: -inf\n",
      "[LightGBM] [Warning] No further splits with positive gain, best gain: -inf\n",
      "[LightGBM] [Warning] No further splits with positive gain, best gain: -inf\n",
      "[LightGBM] [Warning] No further splits with positive gain, best gain: -inf\n",
      "[LightGBM] [Warning] No further splits with positive gain, best gain: -inf\n",
      "[LightGBM] [Warning] No further splits with positive gain, best gain: -inf\n",
      "[LightGBM] [Warning] No further splits with positive gain, best gain: -inf\n",
      "[LightGBM] [Warning] No further splits with positive gain, best gain: -inf\n",
      "[LightGBM] [Warning] No further splits with positive gain, best gain: -inf\n",
      "[LightGBM] [Warning] No further splits with positive gain, best gain: -inf\n",
      "[LightGBM] [Warning] No further splits with positive gain, best gain: -inf\n",
      "[LightGBM] [Warning] No further splits with positive gain, best gain: -inf\n",
      "[LightGBM] [Warning] No further splits with positive gain, best gain: -inf\n",
      "[LightGBM] [Warning] No further splits with positive gain, best gain: -inf\n",
      "[LightGBM] [Warning] No further splits with positive gain, best gain: -inf\n",
      "[LightGBM] [Warning] No further splits with positive gain, best gain: -inf\n",
      "[LightGBM] [Warning] No further splits with positive gain, best gain: -inf\n",
      "[LightGBM] [Warning] No further splits with positive gain, best gain: -inf\n",
      "[LightGBM] [Warning] No further splits with positive gain, best gain: -inf\n",
      "[LightGBM] [Warning] No further splits with positive gain, best gain: -inf\n",
      "[LightGBM] [Warning] No further splits with positive gain, best gain: -inf\n",
      "[LightGBM] [Warning] No further splits with positive gain, best gain: -inf\n",
      "[LightGBM] [Warning] No further splits with positive gain, best gain: -inf\n",
      "[LightGBM] [Warning] No further splits with positive gain, best gain: -inf\n",
      "[LightGBM] [Warning] No further splits with positive gain, best gain: -inf\n",
      "[LightGBM] [Warning] No further splits with positive gain, best gain: -inf\n",
      "[LightGBM] [Warning] No further splits with positive gain, best gain: -inf\n",
      "[LightGBM] [Warning] No further splits with positive gain, best gain: -inf\n",
      "[LightGBM] [Warning] No further splits with positive gain, best gain: -inf\n",
      "[LightGBM] [Warning] No further splits with positive gain, best gain: -inf\n",
      "[LightGBM] [Warning] No further splits with positive gain, best gain: -inf\n",
      "[LightGBM] [Warning] No further splits with positive gain, best gain: -inf\n",
      "[LightGBM] [Warning] No further splits with positive gain, best gain: -inf\n",
      "[LightGBM] [Warning] No further splits with positive gain, best gain: -inf\n",
      "[LightGBM] [Warning] No further splits with positive gain, best gain: -inf\n",
      "[LightGBM] [Warning] No further splits with positive gain, best gain: -inf\n",
      "[LightGBM] [Warning] No further splits with positive gain, best gain: -inf\n",
      "[LightGBM] [Warning] No further splits with positive gain, best gain: -inf\n",
      "[LightGBM] [Warning] No further splits with positive gain, best gain: -inf\n",
      "[LightGBM] [Warning] No further splits with positive gain, best gain: -inf\n",
      "[LightGBM] [Warning] No further splits with positive gain, best gain: -inf\n",
      "[LightGBM] [Warning] No further splits with positive gain, best gain: -inf\n",
      "[LightGBM] [Warning] No further splits with positive gain, best gain: -inf\n",
      "[LightGBM] [Warning] No further splits with positive gain, best gain: -inf\n",
      "[LightGBM] [Warning] No further splits with positive gain, best gain: -inf\n",
      "[LightGBM] [Warning] No further splits with positive gain, best gain: -inf\n",
      "[LightGBM] [Warning] No further splits with positive gain, best gain: -inf\n",
      "[LightGBM] [Warning] No further splits with positive gain, best gain: -inf\n",
      "[LightGBM] [Warning] No further splits with positive gain, best gain: -inf\n",
      "[LightGBM] [Warning] No further splits with positive gain, best gain: -inf\n",
      "[LightGBM] [Warning] No further splits with positive gain, best gain: -inf\n",
      "[LightGBM] [Warning] No further splits with positive gain, best gain: -inf\n",
      "[LightGBM] [Warning] No further splits with positive gain, best gain: -inf\n",
      "[LightGBM] [Warning] No further splits with positive gain, best gain: -inf\n",
      "[LightGBM] [Warning] No further splits with positive gain, best gain: -inf\n",
      "[LightGBM] [Warning] No further splits with positive gain, best gain: -inf\n",
      "[LightGBM] [Warning] No further splits with positive gain, best gain: -inf\n",
      "[LightGBM] [Info] Auto-choosing col-wise multi-threading, the overhead of testing was 0.001607 seconds.\n",
      "You can set `force_col_wise=true` to remove the overhead.\n",
      "[LightGBM] [Info] Total Bins 12582\n",
      "[LightGBM] [Info] Number of data points in the train set: 3282, number of used features: 99\n",
      "[LightGBM] [Info] Start training from score -2.996342\n",
      "[LightGBM] [Info] Start training from score -3.119475\n",
      "[LightGBM] [Info] Start training from score -3.033613\n",
      "[LightGBM] [Info] Start training from score -3.059256\n",
      "[LightGBM] [Info] Start training from score -3.072328\n",
      "[LightGBM] [Info] Start training from score -3.092262\n",
      "[LightGBM] [Info] Start training from score -2.990263\n",
      "[LightGBM] [Info] Start training from score -2.948714\n",
      "[LightGBM] [Info] Start training from score -3.059256\n",
      "[LightGBM] [Info] Start training from score -3.105776\n",
      "[LightGBM] [Info] Start training from score -3.119475\n",
      "[LightGBM] [Info] Start training from score -3.039962\n",
      "[LightGBM] [Info] Start training from score -3.052783\n",
      "[LightGBM] [Info] Start training from score -3.008612\n",
      "[LightGBM] [Info] Start training from score -3.112602\n",
      "[LightGBM] [Info] Start training from score -3.046352\n",
      "[LightGBM] [Info] Start training from score -2.996342\n",
      "[LightGBM] [Info] Start training from score -3.046352\n",
      "[LightGBM] [Info] Start training from score -3.133364\n",
      "[LightGBM] [Info] Start training from score -3.133364\n",
      "[LightGBM] [Info] Start training from score -3.819542\n",
      "[LightGBM] [Info] Start training from score -4.001864\n",
      "[LightGBM] [Info] Start training from score -4.599701\n",
      "[LightGBM] [Info] Start training from score -4.695011\n",
      "[LightGBM] [Warning] No further splits with positive gain, best gain: -inf\n",
      "[LightGBM] [Warning] No further splits with positive gain, best gain: -inf\n",
      "[LightGBM] [Warning] No further splits with positive gain, best gain: -inf\n",
      "[LightGBM] [Warning] No further splits with positive gain, best gain: -inf\n",
      "[LightGBM] [Warning] No further splits with positive gain, best gain: -inf\n",
      "[LightGBM] [Warning] No further splits with positive gain, best gain: -inf\n",
      "[LightGBM] [Warning] No further splits with positive gain, best gain: -inf\n",
      "[LightGBM] [Warning] No further splits with positive gain, best gain: -inf\n",
      "[LightGBM] [Warning] No further splits with positive gain, best gain: -inf\n",
      "[LightGBM] [Warning] No further splits with positive gain, best gain: -inf\n",
      "[LightGBM] [Warning] No further splits with positive gain, best gain: -inf\n",
      "[LightGBM] [Warning] No further splits with positive gain, best gain: -inf\n",
      "[LightGBM] [Warning] No further splits with positive gain, best gain: -inf\n",
      "[LightGBM] [Warning] No further splits with positive gain, best gain: -inf\n",
      "[LightGBM] [Warning] No further splits with positive gain, best gain: -inf\n",
      "[LightGBM] [Warning] No further splits with positive gain, best gain: -inf\n",
      "[LightGBM] [Warning] No further splits with positive gain, best gain: -inf\n",
      "[LightGBM] [Warning] No further splits with positive gain, best gain: -inf\n",
      "[LightGBM] [Warning] No further splits with positive gain, best gain: -inf\n",
      "[LightGBM] [Warning] No further splits with positive gain, best gain: -inf\n",
      "[LightGBM] [Warning] No further splits with positive gain, best gain: -inf\n",
      "[LightGBM] [Warning] No further splits with positive gain, best gain: -inf\n",
      "[LightGBM] [Warning] No further splits with positive gain, best gain: -inf\n",
      "[LightGBM] [Warning] No further splits with positive gain, best gain: -inf\n",
      "[LightGBM] [Warning] No further splits with positive gain, best gain: -inf\n",
      "[LightGBM] [Warning] No further splits with positive gain, best gain: -inf\n",
      "[LightGBM] [Warning] No further splits with positive gain, best gain: -inf\n",
      "[LightGBM] [Warning] No further splits with positive gain, best gain: -inf\n",
      "[LightGBM] [Warning] No further splits with positive gain, best gain: -inf\n",
      "[LightGBM] [Warning] No further splits with positive gain, best gain: -inf\n",
      "[LightGBM] [Warning] No further splits with positive gain, best gain: -inf\n",
      "[LightGBM] [Warning] No further splits with positive gain, best gain: -inf\n",
      "[LightGBM] [Warning] No further splits with positive gain, best gain: -inf\n",
      "[LightGBM] [Warning] No further splits with positive gain, best gain: -inf\n",
      "[LightGBM] [Warning] No further splits with positive gain, best gain: -inf\n",
      "[LightGBM] [Warning] No further splits with positive gain, best gain: -inf\n",
      "[LightGBM] [Warning] No further splits with positive gain, best gain: -inf\n",
      "[LightGBM] [Warning] No further splits with positive gain, best gain: -inf\n",
      "[LightGBM] [Warning] No further splits with positive gain, best gain: -inf\n",
      "[LightGBM] [Warning] No further splits with positive gain, best gain: -inf\n",
      "[LightGBM] [Warning] No further splits with positive gain, best gain: -inf\n",
      "[LightGBM] [Warning] No further splits with positive gain, best gain: -inf\n",
      "[LightGBM] [Warning] No further splits with positive gain, best gain: -inf\n",
      "[LightGBM] [Warning] No further splits with positive gain, best gain: -inf\n",
      "[LightGBM] [Warning] No further splits with positive gain, best gain: -inf\n",
      "[LightGBM] [Warning] No further splits with positive gain, best gain: -inf\n",
      "[LightGBM] [Warning] No further splits with positive gain, best gain: -inf\n",
      "[LightGBM] [Warning] No further splits with positive gain, best gain: -inf\n",
      "[LightGBM] [Warning] No further splits with positive gain, best gain: -inf\n",
      "[LightGBM] [Warning] No further splits with positive gain, best gain: -inf\n",
      "[LightGBM] [Warning] No further splits with positive gain, best gain: -inf\n",
      "[LightGBM] [Warning] No further splits with positive gain, best gain: -inf\n",
      "[LightGBM] [Warning] No further splits with positive gain, best gain: -inf\n",
      "[LightGBM] [Warning] No further splits with positive gain, best gain: -inf\n",
      "[LightGBM] [Warning] No further splits with positive gain, best gain: -inf\n",
      "[LightGBM] [Warning] No further splits with positive gain, best gain: -inf\n",
      "[LightGBM] [Warning] No further splits with positive gain, best gain: -inf\n",
      "[LightGBM] [Warning] No further splits with positive gain, best gain: -inf\n",
      "[LightGBM] [Warning] No further splits with positive gain, best gain: -inf\n",
      "[LightGBM] [Warning] No further splits with positive gain, best gain: -inf\n",
      "[LightGBM] [Warning] No further splits with positive gain, best gain: -inf\n",
      "[LightGBM] [Warning] No further splits with positive gain, best gain: -inf\n",
      "[LightGBM] [Warning] No further splits with positive gain, best gain: -inf\n",
      "[LightGBM] [Warning] No further splits with positive gain, best gain: -inf\n",
      "[LightGBM] [Warning] No further splits with positive gain, best gain: -inf\n",
      "[LightGBM] [Warning] No further splits with positive gain, best gain: -inf\n",
      "[LightGBM] [Warning] No further splits with positive gain, best gain: -inf\n",
      "[LightGBM] [Warning] No further splits with positive gain, best gain: -inf\n",
      "[LightGBM] [Warning] No further splits with positive gain, best gain: -inf\n",
      "[LightGBM] [Warning] No further splits with positive gain, best gain: -inf\n",
      "[LightGBM] [Warning] No further splits with positive gain, best gain: -inf\n",
      "[LightGBM] [Warning] No further splits with positive gain, best gain: -inf\n",
      "[LightGBM] [Warning] No further splits with positive gain, best gain: -inf\n",
      "[LightGBM] [Warning] No further splits with positive gain, best gain: -inf\n",
      "[LightGBM] [Warning] No further splits with positive gain, best gain: -inf\n",
      "[LightGBM] [Warning] No further splits with positive gain, best gain: -inf\n",
      "[LightGBM] [Warning] No further splits with positive gain, best gain: -inf\n",
      "[LightGBM] [Warning] No further splits with positive gain, best gain: -inf\n",
      "[LightGBM] [Warning] No further splits with positive gain, best gain: -inf\n",
      "[LightGBM] [Warning] No further splits with positive gain, best gain: -inf\n",
      "[LightGBM] [Warning] No further splits with positive gain, best gain: -inf\n",
      "[LightGBM] [Warning] No further splits with positive gain, best gain: -inf\n",
      "[LightGBM] [Warning] No further splits with positive gain, best gain: -inf\n",
      "[LightGBM] [Warning] No further splits with positive gain, best gain: -inf\n",
      "[LightGBM] [Warning] No further splits with positive gain, best gain: -inf\n",
      "[LightGBM] [Warning] No further splits with positive gain, best gain: -inf\n",
      "[LightGBM] [Warning] No further splits with positive gain, best gain: -inf\n",
      "[LightGBM] [Warning] No further splits with positive gain, best gain: -inf\n",
      "[LightGBM] [Warning] No further splits with positive gain, best gain: -inf\n",
      "[LightGBM] [Warning] No further splits with positive gain, best gain: -inf\n",
      "[LightGBM] [Warning] No further splits with positive gain, best gain: -inf\n",
      "[LightGBM] [Warning] No further splits with positive gain, best gain: -inf\n",
      "[LightGBM] [Warning] No further splits with positive gain, best gain: -inf\n",
      "[LightGBM] [Info] Auto-choosing col-wise multi-threading, the overhead of testing was 0.001737 seconds.\n",
      "You can set `force_col_wise=true` to remove the overhead.\n",
      "[LightGBM] [Info] Total Bins 12619\n",
      "[LightGBM] [Info] Number of data points in the train set: 3283, number of used features: 99\n",
      "[LightGBM] [Info] Start training from score -2.990567\n",
      "[LightGBM] [Info] Start training from score -3.119779\n",
      "[LightGBM] [Info] Start training from score -3.027609\n",
      "[LightGBM] [Info] Start training from score -3.053088\n",
      "[LightGBM] [Info] Start training from score -3.072632\n",
      "[LightGBM] [Info] Start training from score -3.092567\n",
      "[LightGBM] [Info] Start training from score -2.990567\n",
      "[LightGBM] [Info] Start training from score -2.954849\n",
      "[LightGBM] [Info] Start training from score -3.059560\n",
      "[LightGBM] [Info] Start training from score -3.106080\n",
      "[LightGBM] [Info] Start training from score -3.119779\n",
      "[LightGBM] [Info] Start training from score -3.040267\n",
      "[LightGBM] [Info] Start training from score -3.053088\n",
      "[LightGBM] [Info] Start training from score -3.015109\n",
      "[LightGBM] [Info] Start training from score -3.112906\n",
      "[LightGBM] [Info] Start training from score -3.053088\n",
      "[LightGBM] [Info] Start training from score -2.996646\n",
      "[LightGBM] [Info] Start training from score -3.040267\n",
      "[LightGBM] [Info] Start training from score -3.133668\n",
      "[LightGBM] [Info] Start training from score -3.133668\n",
      "[LightGBM] [Info] Start training from score -3.819847\n",
      "[LightGBM] [Info] Start training from score -4.002168\n",
      "[LightGBM] [Info] Start training from score -4.600005\n",
      "[LightGBM] [Info] Start training from score -4.695316\n",
      "[LightGBM] [Warning] No further splits with positive gain, best gain: -inf\n",
      "[LightGBM] [Warning] No further splits with positive gain, best gain: -inf\n",
      "[LightGBM] [Warning] No further splits with positive gain, best gain: -inf\n",
      "[LightGBM] [Warning] No further splits with positive gain, best gain: -inf\n",
      "[LightGBM] [Warning] No further splits with positive gain, best gain: -inf\n",
      "[LightGBM] [Warning] No further splits with positive gain, best gain: -inf\n",
      "[LightGBM] [Warning] No further splits with positive gain, best gain: -inf\n",
      "[LightGBM] [Warning] No further splits with positive gain, best gain: -inf\n",
      "[LightGBM] [Warning] No further splits with positive gain, best gain: -inf\n",
      "[LightGBM] [Warning] No further splits with positive gain, best gain: -inf\n",
      "[LightGBM] [Warning] No further splits with positive gain, best gain: -inf\n",
      "[LightGBM] [Warning] No further splits with positive gain, best gain: -inf\n",
      "[LightGBM] [Warning] No further splits with positive gain, best gain: -inf\n",
      "[LightGBM] [Warning] No further splits with positive gain, best gain: -inf\n",
      "[LightGBM] [Warning] No further splits with positive gain, best gain: -inf\n",
      "[LightGBM] [Warning] No further splits with positive gain, best gain: -inf\n",
      "[LightGBM] [Warning] No further splits with positive gain, best gain: -inf\n",
      "[LightGBM] [Warning] No further splits with positive gain, best gain: -inf\n",
      "[LightGBM] [Warning] No further splits with positive gain, best gain: -inf\n",
      "[LightGBM] [Warning] No further splits with positive gain, best gain: -inf\n",
      "[LightGBM] [Warning] No further splits with positive gain, best gain: -inf\n",
      "[LightGBM] [Warning] No further splits with positive gain, best gain: -inf\n",
      "[LightGBM] [Warning] No further splits with positive gain, best gain: -inf\n",
      "[LightGBM] [Warning] No further splits with positive gain, best gain: -inf\n",
      "[LightGBM] [Warning] No further splits with positive gain, best gain: -inf\n",
      "[LightGBM] [Warning] No further splits with positive gain, best gain: -inf\n",
      "[LightGBM] [Warning] No further splits with positive gain, best gain: -inf\n",
      "[LightGBM] [Warning] No further splits with positive gain, best gain: -inf\n",
      "[LightGBM] [Warning] No further splits with positive gain, best gain: -inf\n",
      "[LightGBM] [Warning] No further splits with positive gain, best gain: -inf\n",
      "[LightGBM] [Warning] No further splits with positive gain, best gain: -inf\n",
      "[LightGBM] [Warning] No further splits with positive gain, best gain: -inf\n",
      "[LightGBM] [Warning] No further splits with positive gain, best gain: -inf\n",
      "[LightGBM] [Warning] No further splits with positive gain, best gain: -inf\n",
      "[LightGBM] [Warning] No further splits with positive gain, best gain: -inf\n",
      "[LightGBM] [Warning] No further splits with positive gain, best gain: -inf\n",
      "[LightGBM] [Warning] No further splits with positive gain, best gain: -inf\n",
      "[LightGBM] [Warning] No further splits with positive gain, best gain: -inf\n",
      "[LightGBM] [Warning] No further splits with positive gain, best gain: -inf\n",
      "[LightGBM] [Warning] No further splits with positive gain, best gain: -inf\n",
      "[LightGBM] [Warning] No further splits with positive gain, best gain: -inf\n",
      "[LightGBM] [Warning] No further splits with positive gain, best gain: -inf\n",
      "[LightGBM] [Warning] No further splits with positive gain, best gain: -inf\n",
      "[LightGBM] [Warning] No further splits with positive gain, best gain: -inf\n",
      "[LightGBM] [Warning] No further splits with positive gain, best gain: -inf\n",
      "[LightGBM] [Warning] No further splits with positive gain, best gain: -inf\n",
      "[LightGBM] [Warning] No further splits with positive gain, best gain: -inf\n",
      "[LightGBM] [Warning] No further splits with positive gain, best gain: -inf\n",
      "[LightGBM] [Warning] No further splits with positive gain, best gain: -inf\n",
      "[LightGBM] [Warning] No further splits with positive gain, best gain: -inf\n",
      "[LightGBM] [Warning] No further splits with positive gain, best gain: -inf\n",
      "[LightGBM] [Warning] No further splits with positive gain, best gain: -inf\n",
      "[LightGBM] [Warning] No further splits with positive gain, best gain: -inf\n",
      "[LightGBM] [Warning] No further splits with positive gain, best gain: -inf\n",
      "[LightGBM] [Warning] No further splits with positive gain, best gain: -inf\n",
      "[LightGBM] [Warning] No further splits with positive gain, best gain: -inf\n",
      "[LightGBM] [Warning] No further splits with positive gain, best gain: -inf\n",
      "[LightGBM] [Warning] No further splits with positive gain, best gain: -inf\n",
      "[LightGBM] [Warning] No further splits with positive gain, best gain: -inf\n",
      "[LightGBM] [Warning] No further splits with positive gain, best gain: -inf\n",
      "[LightGBM] [Warning] No further splits with positive gain, best gain: -inf\n",
      "[LightGBM] [Warning] No further splits with positive gain, best gain: -inf\n",
      "[LightGBM] [Warning] No further splits with positive gain, best gain: -inf\n",
      "[LightGBM] [Warning] No further splits with positive gain, best gain: -inf\n",
      "[LightGBM] [Warning] No further splits with positive gain, best gain: -inf\n",
      "[LightGBM] [Warning] No further splits with positive gain, best gain: -inf\n",
      "[LightGBM] [Warning] No further splits with positive gain, best gain: -inf\n",
      "[LightGBM] [Warning] No further splits with positive gain, best gain: -inf\n",
      "[LightGBM] [Warning] No further splits with positive gain, best gain: -inf\n",
      "[LightGBM] [Warning] No further splits with positive gain, best gain: -inf\n",
      "[LightGBM] [Warning] No further splits with positive gain, best gain: -inf\n",
      "[LightGBM] [Warning] No further splits with positive gain, best gain: -inf\n",
      "[LightGBM] [Warning] No further splits with positive gain, best gain: -inf\n",
      "[LightGBM] [Warning] No further splits with positive gain, best gain: -inf\n",
      "[LightGBM] [Warning] No further splits with positive gain, best gain: -inf\n",
      "[LightGBM] [Warning] No further splits with positive gain, best gain: -inf\n",
      "[LightGBM] [Warning] No further splits with positive gain, best gain: -inf\n",
      "[LightGBM] [Warning] No further splits with positive gain, best gain: -inf\n",
      "[LightGBM] [Warning] No further splits with positive gain, best gain: -inf\n",
      "[LightGBM] [Warning] No further splits with positive gain, best gain: -inf\n",
      "[LightGBM] [Warning] No further splits with positive gain, best gain: -inf\n",
      "[LightGBM] [Warning] No further splits with positive gain, best gain: -inf\n",
      "[LightGBM] [Warning] No further splits with positive gain, best gain: -inf\n",
      "[LightGBM] [Warning] No further splits with positive gain, best gain: -inf\n",
      "[LightGBM] [Warning] No further splits with positive gain, best gain: -inf\n",
      "[LightGBM] [Warning] No further splits with positive gain, best gain: -inf\n",
      "[LightGBM] [Warning] No further splits with positive gain, best gain: -inf\n",
      "[LightGBM] [Warning] No further splits with positive gain, best gain: -inf\n",
      "[LightGBM] [Warning] No further splits with positive gain, best gain: -inf\n",
      "[LightGBM] [Info] Auto-choosing col-wise multi-threading, the overhead of testing was 0.001756 seconds.\n",
      "You can set `force_col_wise=true` to remove the overhead.\n",
      "[LightGBM] [Info] Total Bins 12499\n",
      "[LightGBM] [Info] Number of data points in the train set: 3283, number of used features: 99\n",
      "[LightGBM] [Info] Start training from score -2.990567\n",
      "[LightGBM] [Info] Start training from score -3.119779\n",
      "[LightGBM] [Info] Start training from score -3.027609\n",
      "[LightGBM] [Info] Start training from score -3.053088\n",
      "[LightGBM] [Info] Start training from score -3.072632\n",
      "[LightGBM] [Info] Start training from score -3.099301\n",
      "[LightGBM] [Info] Start training from score -2.990567\n",
      "[LightGBM] [Info] Start training from score -2.954849\n",
      "[LightGBM] [Info] Start training from score -3.053088\n",
      "[LightGBM] [Info] Start training from score -3.106080\n",
      "[LightGBM] [Info] Start training from score -3.119779\n",
      "[LightGBM] [Info] Start training from score -3.040267\n",
      "[LightGBM] [Info] Start training from score -3.053088\n",
      "[LightGBM] [Info] Start training from score -3.015109\n",
      "[LightGBM] [Info] Start training from score -3.112906\n",
      "[LightGBM] [Info] Start training from score -3.053088\n",
      "[LightGBM] [Info] Start training from score -2.996646\n",
      "[LightGBM] [Info] Start training from score -3.040267\n",
      "[LightGBM] [Info] Start training from score -3.133668\n",
      "[LightGBM] [Info] Start training from score -3.133668\n",
      "[LightGBM] [Info] Start training from score -3.819847\n",
      "[LightGBM] [Info] Start training from score -4.002168\n",
      "[LightGBM] [Info] Start training from score -4.600005\n",
      "[LightGBM] [Info] Start training from score -4.695316\n",
      "[LightGBM] [Warning] No further splits with positive gain, best gain: -inf\n",
      "[LightGBM] [Warning] No further splits with positive gain, best gain: -inf\n",
      "[LightGBM] [Warning] No further splits with positive gain, best gain: -inf\n",
      "[LightGBM] [Warning] No further splits with positive gain, best gain: -inf\n",
      "[LightGBM] [Warning] No further splits with positive gain, best gain: -inf\n",
      "[LightGBM] [Warning] No further splits with positive gain, best gain: -inf\n",
      "[LightGBM] [Warning] No further splits with positive gain, best gain: -inf\n",
      "[LightGBM] [Warning] No further splits with positive gain, best gain: -inf\n",
      "[LightGBM] [Warning] No further splits with positive gain, best gain: -inf\n",
      "[LightGBM] [Warning] No further splits with positive gain, best gain: -inf\n",
      "[LightGBM] [Warning] No further splits with positive gain, best gain: -inf\n",
      "[LightGBM] [Warning] No further splits with positive gain, best gain: -inf\n",
      "[LightGBM] [Warning] No further splits with positive gain, best gain: -inf\n",
      "[LightGBM] [Warning] No further splits with positive gain, best gain: -inf\n",
      "[LightGBM] [Warning] No further splits with positive gain, best gain: -inf\n",
      "[LightGBM] [Warning] No further splits with positive gain, best gain: -inf\n",
      "[LightGBM] [Warning] No further splits with positive gain, best gain: -inf\n",
      "[LightGBM] [Warning] No further splits with positive gain, best gain: -inf\n",
      "[LightGBM] [Warning] No further splits with positive gain, best gain: -inf\n",
      "[LightGBM] [Warning] No further splits with positive gain, best gain: -inf\n",
      "[LightGBM] [Warning] No further splits with positive gain, best gain: -inf\n",
      "[LightGBM] [Warning] No further splits with positive gain, best gain: -inf\n",
      "[LightGBM] [Warning] No further splits with positive gain, best gain: -inf\n",
      "[LightGBM] [Warning] No further splits with positive gain, best gain: -inf\n",
      "[LightGBM] [Warning] No further splits with positive gain, best gain: -inf\n",
      "[LightGBM] [Warning] No further splits with positive gain, best gain: -inf\n",
      "[LightGBM] [Warning] No further splits with positive gain, best gain: -inf\n",
      "[LightGBM] [Warning] No further splits with positive gain, best gain: -inf\n",
      "[LightGBM] [Warning] No further splits with positive gain, best gain: -inf\n",
      "[LightGBM] [Warning] No further splits with positive gain, best gain: -inf\n",
      "[LightGBM] [Warning] No further splits with positive gain, best gain: -inf\n",
      "[LightGBM] [Warning] No further splits with positive gain, best gain: -inf\n",
      "[LightGBM] [Warning] No further splits with positive gain, best gain: -inf\n",
      "[LightGBM] [Warning] No further splits with positive gain, best gain: -inf\n",
      "[LightGBM] [Warning] No further splits with positive gain, best gain: -inf\n",
      "[LightGBM] [Warning] No further splits with positive gain, best gain: -inf\n",
      "[LightGBM] [Warning] No further splits with positive gain, best gain: -inf\n",
      "[LightGBM] [Warning] No further splits with positive gain, best gain: -inf\n",
      "[LightGBM] [Warning] No further splits with positive gain, best gain: -inf\n",
      "[LightGBM] [Warning] No further splits with positive gain, best gain: -inf\n",
      "[LightGBM] [Warning] No further splits with positive gain, best gain: -inf\n",
      "[LightGBM] [Warning] No further splits with positive gain, best gain: -inf\n",
      "[LightGBM] [Warning] No further splits with positive gain, best gain: -inf\n",
      "[LightGBM] [Warning] No further splits with positive gain, best gain: -inf\n",
      "[LightGBM] [Warning] No further splits with positive gain, best gain: -inf\n",
      "[LightGBM] [Warning] No further splits with positive gain, best gain: -inf\n",
      "[LightGBM] [Warning] No further splits with positive gain, best gain: -inf\n",
      "[LightGBM] [Warning] No further splits with positive gain, best gain: -inf\n",
      "[LightGBM] [Warning] No further splits with positive gain, best gain: -inf\n",
      "[LightGBM] [Warning] No further splits with positive gain, best gain: -inf\n",
      "[LightGBM] [Warning] No further splits with positive gain, best gain: -inf\n",
      "[LightGBM] [Warning] No further splits with positive gain, best gain: -inf\n",
      "[LightGBM] [Warning] No further splits with positive gain, best gain: -inf\n",
      "[LightGBM] [Warning] No further splits with positive gain, best gain: -inf\n",
      "[LightGBM] [Warning] No further splits with positive gain, best gain: -inf\n",
      "[LightGBM] [Warning] No further splits with positive gain, best gain: -inf\n",
      "[LightGBM] [Warning] No further splits with positive gain, best gain: -inf\n",
      "[LightGBM] [Warning] No further splits with positive gain, best gain: -inf\n",
      "[LightGBM] [Warning] No further splits with positive gain, best gain: -inf\n",
      "[LightGBM] [Warning] No further splits with positive gain, best gain: -inf\n",
      "[LightGBM] [Warning] No further splits with positive gain, best gain: -inf\n",
      "[LightGBM] [Warning] No further splits with positive gain, best gain: -inf\n",
      "[LightGBM] [Warning] No further splits with positive gain, best gain: -inf\n",
      "[LightGBM] [Warning] No further splits with positive gain, best gain: -inf\n",
      "[LightGBM] [Warning] No further splits with positive gain, best gain: -inf\n",
      "[LightGBM] [Warning] No further splits with positive gain, best gain: -inf\n",
      "[LightGBM] [Warning] No further splits with positive gain, best gain: -inf\n",
      "[LightGBM] [Warning] No further splits with positive gain, best gain: -inf\n",
      "[LightGBM] [Warning] No further splits with positive gain, best gain: -inf\n",
      "[LightGBM] [Warning] No further splits with positive gain, best gain: -inf\n",
      "[LightGBM] [Warning] No further splits with positive gain, best gain: -inf\n",
      "[LightGBM] [Warning] No further splits with positive gain, best gain: -inf\n",
      "[LightGBM] [Warning] No further splits with positive gain, best gain: -inf\n",
      "[LightGBM] [Warning] No further splits with positive gain, best gain: -inf\n",
      "[LightGBM] [Warning] No further splits with positive gain, best gain: -inf\n",
      "[LightGBM] [Warning] No further splits with positive gain, best gain: -inf\n",
      "[LightGBM] [Warning] No further splits with positive gain, best gain: -inf\n",
      "[LightGBM] [Warning] No further splits with positive gain, best gain: -inf\n",
      "[LightGBM] [Warning] No further splits with positive gain, best gain: -inf\n",
      "[LightGBM] [Warning] No further splits with positive gain, best gain: -inf\n",
      "[LightGBM] [Warning] No further splits with positive gain, best gain: -inf\n",
      "[LightGBM] [Warning] No further splits with positive gain, best gain: -inf\n",
      "[LightGBM] [Warning] No further splits with positive gain, best gain: -inf\n",
      "[LightGBM] [Warning] No further splits with positive gain, best gain: -inf\n",
      "[LightGBM] [Warning] No further splits with positive gain, best gain: -inf\n",
      "[LightGBM] [Warning] No further splits with positive gain, best gain: -inf\n",
      "[LightGBM] [Warning] No further splits with positive gain, best gain: -inf\n",
      "[LightGBM] [Warning] No further splits with positive gain, best gain: -inf\n",
      "RandomForestClassifier Accuracy: 0.1545239297703574\n",
      "LGBMClassifier Accuracy: 0.1589043700424824\n",
      "CatBoostClassifier Accuracy: 0.1681690977689314\n"
     ]
    }
   ],
   "source": [
    "# Obtener los resultados del accuracy de los distintos modelos\n",
    "rf_scores = cross_val_score(rf_pipeline, X_train, y_train, cv=5, scoring=\"accuracy\")\n",
    "lgbm_scores = cross_val_score(lgbm_pipeline, X_train, y_train, cv=5, scoring='accuracy')\n",
    "catboost_scores = cross_val_score(catboost_pipeline, X_train, y_train, cv=5, scoring='accuracy')\n",
    "\n",
    "# Obtener la media de los accuracy de cada modelo\n",
    "print(f'RandomForestClassifier Accuracy: {rf_scores.mean()}')\n",
    "print(f'LGBMClassifier Accuracy: {lgbm_scores.mean()}')\n",
    "print(f'CatBoostClassifier Accuracy: {catboost_scores.mean()}')"
   ]
  },
  {
   "cell_type": "code",
   "execution_count": 25,
   "metadata": {},
   "outputs": [
    {
     "name": "stdout",
     "output_type": "stream",
     "text": [
      "Best parameters: {'classifier__bootstrap': False, 'classifier__max_depth': 10, 'classifier__min_samples_leaf': 3, 'classifier__min_samples_split': 5, 'classifier__n_estimators': 300}\n",
      "Best cross-validation accuracy: 0.1684109206500104\n"
     ]
    }
   ],
   "source": [
    "# Definir el Grid de parámetros para utilizar en GridSearchCV\n",
    "param_Grid = {\n",
    "    'classifier__n_estimators': [300, 350, 400],\n",
    "    'classifier__max_depth': [None, 10, 20],\n",
    "    'classifier__min_samples_split': [2, 5, 10],\n",
    "    'classifier__min_samples_leaf': [1, 2, 3],\n",
    "    'classifier__bootstrap': [True, False]\n",
    "}\n",
    "\n",
    "# Hiperparametrizar el modelo\n",
    "Grid_search = GridSearchCV(rf_pipeline, param_Grid, cv=5, scoring='accuracy', n_jobs=-1)\n",
    "Grid_search.fit(X_train, y_train)\n",
    "\n",
    "print(f'Best parameters: {Grid_search.best_params_}')\n",
    "print(f'Best cross-validation accuracy: {Grid_search.best_score_}')"
   ]
  },
  {
   "cell_type": "code",
   "execution_count": 26,
   "metadata": {},
   "outputs": [
    {
     "name": "stdout",
     "output_type": "stream",
     "text": [
      "Accuracy de validación para el mejor RandomForest: 0.15935672514619884\n"
     ]
    }
   ],
   "source": [
    "# Utilizar el best_estimator_ para tomar los mejores parámetros del GridSearch y entrenar el modelo con Train\n",
    "best_rf_model = Grid_search.best_estimator_\n",
    "best_rf_model.fit(X_train, y_train)\n",
    "\n",
    "# Evaluar la predicción con el conjunto de validación\n",
    "val_predictions = best_rf_model.predict(X_val)\n",
    "val_acc = accuracy_score(y_val, val_predictions)\n",
    "print(f'Accuracy de validación para el mejor RandomForest: {val_acc}')"
   ]
  },
  {
   "cell_type": "code",
   "execution_count": 27,
   "metadata": {},
   "outputs": [
    {
     "name": "stdout",
     "output_type": "stream",
     "text": [
      "Accuracy de Test para el mejor RandomForest: 0.17251461988304093\n"
     ]
    }
   ],
   "source": [
    "# Obtener las predicciones contra el Test\n",
    "test_predictions = best_rf_model.predict(X_test)\n",
    "test_acc = accuracy_score(y_test, test_predictions)\n",
    "print(f'Accuracy de Test para el mejor RandomForest: {test_acc}')"
   ]
  },
  {
   "cell_type": "code",
   "execution_count": 28,
   "metadata": {},
   "outputs": [
    {
     "data": {
      "application/vnd.plotly.v1+json": {
       "config": {
        "plotlyServerURL": "https://plot.ly"
       },
       "data": [
        {
         "branchvalues": "total",
         "customdata": [
          [
           0.9013479699767689
          ],
          [
           0.8249723119837901
          ],
          [
           0.873510354047122
          ],
          [
           0.8289791942571716
          ],
          [
           0.8941031061110726
          ],
          [
           0.8438476193073163
          ],
          [
           0.784956133770997
          ],
          [
           0.9722207204040326
          ],
          [
           1.0642996883506985
          ],
          [
           0.9034949265658244
          ],
          [
           0.9643923100512807
          ],
          [
           0.9137708852259344
          ],
          [
           0.9725496895561838
          ],
          [
           0.7660162252665291
          ],
          [
           0.7258886366047131
          ],
          [
           0.6109684277439994
          ],
          [
           0.6795417216598176
          ],
          [
           0.9575587005897824
          ],
          [
           0.8085997514647195
          ],
          [
           0.8891425220245981
          ],
          [
           0.9192527573159174
          ],
          [
           0.7944019205044031
          ],
          [
           0.9118891941565452
          ],
          [
           0.8475971579969925
          ],
          [
           0.9531911518644817
          ],
          [
           0.9121503882895571
          ],
          [
           0.8291374547548559
          ],
          [
           0.6318184500810148
          ],
          [
           0.8705571020117853
          ],
          [
           1.1579783963157746
          ],
          [
           1.029435689211781
          ],
          [
           1.161879023019825
          ],
          [
           0.9163780090368625
          ],
          [
           0.6275197479081832
          ],
          [
           0.8583251131037221
          ],
          [
           1.3623854341393495
          ],
          [
           0.6370796022240005
          ],
          [
           0.6481870483494465
          ],
          [
           0.6345293821847249
          ],
          [
           0.4822102481537854
          ],
          [
           0.4301338030993627
          ],
          [
           1.1219833163834954
          ],
          [
           0.9011103976123992
          ],
          [
           0.8077507631625488
          ],
          [
           0.8615753801843697
          ],
          [
           0.6762470153445188
          ],
          [
           0.5834038177828412
          ],
          [
           0.8125755506938248
          ],
          [
           1.0529989978968015
          ],
          [
           0.9420289351431617
          ],
          [
           0.7265860150341005
          ],
          [
           0.8404271905292785
          ],
          [
           0.8935773626305109
          ],
          [
           0.9871487236014125
          ],
          [
           0.8943569093295588
          ],
          [
           0.8114017278935326
          ],
          [
           0.8790383049757923
          ],
          [
           0.8595842832196662
          ],
          [
           0.8853305853842826
          ],
          [
           0.8785824208831191
          ],
          [
           0.8604442702973965
          ],
          [
           0.6618576618324441
          ],
          [
           0.6610297862187693
          ],
          [
           0.3755983516737453
          ],
          [
           0.3983234429601118
          ],
          [
           0.678840594339624
          ],
          [
           0.9434191819109607
          ],
          [
           0.840440488911566
          ],
          [
           1.023853805559483
          ],
          [
           0.9155179312888118
          ],
          [
           0.8279393370174516
          ],
          [
           0.7109810864547069
          ],
          [
           6.721259727767061
          ],
          [
           6.378095008334955
          ],
          [
           0.8879759943037394
          ],
          [
           0.8582107313243172
          ],
          [
           0.8482019438011024
          ],
          [
           0.8635098974136308
          ],
          [
           0.8447910168364307
          ],
          [
           0.8555270618126698
          ],
          [
           0.7729904994803821
          ],
          [
           0.8628407246973623
          ],
          [
           0.9780533362079541
          ],
          [
           0.8472482654692809
          ],
          [
           0.9011010254783948
          ],
          [
           0.8240804104538823
          ],
          [
           0.928117551775187
          ],
          [
           0.6804039646108875
          ],
          [
           0.7005037198771077
          ],
          [
           0.6563979261194995
          ],
          [
           0.7117122668551258
          ],
          [
           0.8138564299787977
          ],
          [
           0.926596574500874
          ],
          [
           0.9080157283131342
          ],
          [
           0.8736621017378522
          ],
          [
           0.840935141487922
          ],
          [
           0.9115597703346103
          ],
          [
           0.8544776773788744
          ],
          [
           6.639723898813967
          ],
          [
           0.872120422192852
          ],
          [
           0.8907096739941809
          ],
          [
           0.8480463762067094
          ],
          [
           0.8472458392708241
          ],
          [
           6.582949696855749
          ]
         ],
         "domain": {
          "x": [
           0,
           1
          ],
          "y": [
           0,
           1
          ]
         },
         "hovertemplate": "labels=%{label}<br>Importance Percentage_sum=%{value}<br>parent=%{parent}<br>id=%{id}<br>Importance Percentage=%{color}<extra></extra>",
         "ids": [
          "Circuit/Circuit_1",
          "Circuit/Circuit_10",
          "Circuit/Circuit_11",
          "Circuit/Circuit_12",
          "Circuit/Circuit_13",
          "Circuit/Circuit_14",
          "Circuit/Circuit_15",
          "Circuit/Circuit_16",
          "Circuit/Circuit_17",
          "Circuit/Circuit_18",
          "Circuit/Circuit_19",
          "Circuit/Circuit_2",
          "Circuit/Circuit_20",
          "Circuit/Circuit_21",
          "Circuit/Circuit_22",
          "Circuit/Circuit_23",
          "Circuit/Circuit_24",
          "Circuit/Circuit_3",
          "Circuit/Circuit_4",
          "Circuit/Circuit_5",
          "Circuit/Circuit_6",
          "Circuit/Circuit_7",
          "Circuit/Circuit_8",
          "Circuit/Circuit_9",
          "Constructor/Constructor_1",
          "Constructor/Constructor_10",
          "Constructor/Constructor_11",
          "Constructor/Constructor_12",
          "Constructor/Constructor_13",
          "Constructor/Constructor_14",
          "Constructor/Constructor_15",
          "Constructor/Constructor_16",
          "Constructor/Constructor_17",
          "Constructor/Constructor_18",
          "Constructor/Constructor_19",
          "Constructor/Constructor_2",
          "Constructor/Constructor_20",
          "Constructor/Constructor_21",
          "Constructor/Constructor_22",
          "Constructor/Constructor_23",
          "Constructor/Constructor_24",
          "Constructor/Constructor_3",
          "Constructor/Constructor_4",
          "Constructor/Constructor_5",
          "Constructor/Constructor_6",
          "Constructor/Constructor_7",
          "Constructor/Constructor_8",
          "Constructor/Constructor_9",
          "Driver/Driver_1",
          "Driver/Driver_10",
          "Driver/Driver_11",
          "Driver/Driver_12",
          "Driver/Driver_13",
          "Driver/Driver_14",
          "Driver/Driver_15",
          "Driver/Driver_16",
          "Driver/Driver_17",
          "Driver/Driver_18",
          "Driver/Driver_19",
          "Driver/Driver_2",
          "Driver/Driver_20",
          "Driver/Driver_21",
          "Driver/Driver_22",
          "Driver/Driver_23",
          "Driver/Driver_24",
          "Driver/Driver_3",
          "Driver/Driver_4",
          "Driver/Driver_5",
          "Driver/Driver_6",
          "Driver/Driver_7",
          "Driver/Driver_8",
          "Driver/Driver_9",
          "numeric/Grid",
          "numeric/Laps",
          "Race/Race_1",
          "Race/Race_10",
          "Race/Race_11",
          "Race/Race_12",
          "Race/Race_13",
          "Race/Race_14",
          "Race/Race_15",
          "Race/Race_16",
          "Race/Race_17",
          "Race/Race_18",
          "Race/Race_19",
          "Race/Race_2",
          "Race/Race_20",
          "Race/Race_21",
          "Race/Race_22",
          "Race/Race_23",
          "Race/Race_24",
          "Race/Race_3",
          "Race/Race_4",
          "Race/Race_5",
          "Race/Race_6",
          "Race/Race_7",
          "Race/Race_8",
          "Race/Race_9",
          "numeric/Rank",
          "Circuit",
          "Constructor",
          "Driver",
          "Race",
          "numeric"
         ],
         "labels": [
          "Circuit_1",
          "Circuit_10",
          "Circuit_11",
          "Circuit_12",
          "Circuit_13",
          "Circuit_14",
          "Circuit_15",
          "Circuit_16",
          "Circuit_17",
          "Circuit_18",
          "Circuit_19",
          "Circuit_2",
          "Circuit_20",
          "Circuit_21",
          "Circuit_22",
          "Circuit_23",
          "Circuit_24",
          "Circuit_3",
          "Circuit_4",
          "Circuit_5",
          "Circuit_6",
          "Circuit_7",
          "Circuit_8",
          "Circuit_9",
          "Constructor_1",
          "Constructor_10",
          "Constructor_11",
          "Constructor_12",
          "Constructor_13",
          "Constructor_14",
          "Constructor_15",
          "Constructor_16",
          "Constructor_17",
          "Constructor_18",
          "Constructor_19",
          "Constructor_2",
          "Constructor_20",
          "Constructor_21",
          "Constructor_22",
          "Constructor_23",
          "Constructor_24",
          "Constructor_3",
          "Constructor_4",
          "Constructor_5",
          "Constructor_6",
          "Constructor_7",
          "Constructor_8",
          "Constructor_9",
          "Driver_1",
          "Driver_10",
          "Driver_11",
          "Driver_12",
          "Driver_13",
          "Driver_14",
          "Driver_15",
          "Driver_16",
          "Driver_17",
          "Driver_18",
          "Driver_19",
          "Driver_2",
          "Driver_20",
          "Driver_21",
          "Driver_22",
          "Driver_23",
          "Driver_24",
          "Driver_3",
          "Driver_4",
          "Driver_5",
          "Driver_6",
          "Driver_7",
          "Driver_8",
          "Driver_9",
          "Grid",
          "Laps",
          "Race_1",
          "Race_10",
          "Race_11",
          "Race_12",
          "Race_13",
          "Race_14",
          "Race_15",
          "Race_16",
          "Race_17",
          "Race_18",
          "Race_19",
          "Race_2",
          "Race_20",
          "Race_21",
          "Race_22",
          "Race_23",
          "Race_24",
          "Race_3",
          "Race_4",
          "Race_5",
          "Race_6",
          "Race_7",
          "Race_8",
          "Race_9",
          "Rank",
          "Circuit",
          "Constructor",
          "Driver",
          "Race",
          "numeric"
         ],
         "marker": {
          "coloraxis": "coloraxis",
          "colors": [
           0.9013479699767689,
           0.8249723119837901,
           0.873510354047122,
           0.8289791942571716,
           0.8941031061110726,
           0.8438476193073163,
           0.784956133770997,
           0.9722207204040326,
           1.0642996883506985,
           0.9034949265658244,
           0.9643923100512807,
           0.9137708852259344,
           0.9725496895561838,
           0.7660162252665291,
           0.7258886366047131,
           0.6109684277439994,
           0.6795417216598176,
           0.9575587005897824,
           0.8085997514647195,
           0.8891425220245981,
           0.9192527573159174,
           0.7944019205044031,
           0.9118891941565452,
           0.8475971579969925,
           0.9531911518644817,
           0.9121503882895571,
           0.8291374547548559,
           0.6318184500810148,
           0.8705571020117853,
           1.1579783963157746,
           1.029435689211781,
           1.161879023019825,
           0.9163780090368625,
           0.6275197479081832,
           0.8583251131037221,
           1.3623854341393495,
           0.6370796022240005,
           0.6481870483494465,
           0.6345293821847249,
           0.4822102481537854,
           0.4301338030993627,
           1.1219833163834954,
           0.9011103976123992,
           0.8077507631625488,
           0.8615753801843697,
           0.6762470153445188,
           0.5834038177828412,
           0.8125755506938248,
           1.0529989978968015,
           0.9420289351431617,
           0.7265860150341005,
           0.8404271905292785,
           0.8935773626305109,
           0.9871487236014125,
           0.8943569093295588,
           0.8114017278935326,
           0.8790383049757923,
           0.8595842832196662,
           0.8853305853842826,
           0.8785824208831191,
           0.8604442702973965,
           0.6618576618324441,
           0.6610297862187693,
           0.3755983516737453,
           0.3983234429601118,
           0.678840594339624,
           0.9434191819109607,
           0.840440488911566,
           1.023853805559483,
           0.9155179312888118,
           0.8279393370174516,
           0.7109810864547069,
           6.721259727767061,
           6.378095008334955,
           0.8879759943037394,
           0.8582107313243172,
           0.8482019438011024,
           0.8635098974136308,
           0.8447910168364307,
           0.8555270618126698,
           0.7729904994803821,
           0.8628407246973623,
           0.9780533362079541,
           0.8472482654692809,
           0.9011010254783948,
           0.8240804104538823,
           0.928117551775187,
           0.6804039646108875,
           0.7005037198771077,
           0.6563979261194995,
           0.7117122668551258,
           0.8138564299787977,
           0.926596574500874,
           0.9080157283131342,
           0.8736621017378522,
           0.840935141487922,
           0.9115597703346103,
           0.8544776773788744,
           6.639723898813967,
           0.872120422192852,
           0.8907096739941809,
           0.8480463762067094,
           0.8472458392708241,
           6.582949696855749
          ]
         },
         "name": "",
         "parents": [
          "Circuit",
          "Circuit",
          "Circuit",
          "Circuit",
          "Circuit",
          "Circuit",
          "Circuit",
          "Circuit",
          "Circuit",
          "Circuit",
          "Circuit",
          "Circuit",
          "Circuit",
          "Circuit",
          "Circuit",
          "Circuit",
          "Circuit",
          "Circuit",
          "Circuit",
          "Circuit",
          "Circuit",
          "Circuit",
          "Circuit",
          "Circuit",
          "Constructor",
          "Constructor",
          "Constructor",
          "Constructor",
          "Constructor",
          "Constructor",
          "Constructor",
          "Constructor",
          "Constructor",
          "Constructor",
          "Constructor",
          "Constructor",
          "Constructor",
          "Constructor",
          "Constructor",
          "Constructor",
          "Constructor",
          "Constructor",
          "Constructor",
          "Constructor",
          "Constructor",
          "Constructor",
          "Constructor",
          "Constructor",
          "Driver",
          "Driver",
          "Driver",
          "Driver",
          "Driver",
          "Driver",
          "Driver",
          "Driver",
          "Driver",
          "Driver",
          "Driver",
          "Driver",
          "Driver",
          "Driver",
          "Driver",
          "Driver",
          "Driver",
          "Driver",
          "Driver",
          "Driver",
          "Driver",
          "Driver",
          "Driver",
          "Driver",
          "numeric",
          "numeric",
          "Race",
          "Race",
          "Race",
          "Race",
          "Race",
          "Race",
          "Race",
          "Race",
          "Race",
          "Race",
          "Race",
          "Race",
          "Race",
          "Race",
          "Race",
          "Race",
          "Race",
          "Race",
          "Race",
          "Race",
          "Race",
          "Race",
          "Race",
          "Race",
          "numeric",
          "",
          "",
          "",
          "",
          ""
         ],
         "type": "treemap",
         "values": [
          0.9013479699767689,
          0.8249723119837901,
          0.873510354047122,
          0.8289791942571715,
          0.8941031061110726,
          0.8438476193073163,
          0.784956133770997,
          0.9722207204040326,
          1.0642996883506985,
          0.9034949265658244,
          0.9643923100512807,
          0.9137708852259344,
          0.9725496895561838,
          0.7660162252665291,
          0.7258886366047131,
          0.6109684277439994,
          0.6795417216598176,
          0.9575587005897824,
          0.8085997514647195,
          0.8891425220245981,
          0.9192527573159174,
          0.7944019205044031,
          0.9118891941565452,
          0.8475971579969926,
          0.9531911518644817,
          0.9121503882895571,
          0.8291374547548559,
          0.6318184500810148,
          0.8705571020117853,
          1.1579783963157746,
          1.029435689211781,
          1.161879023019825,
          0.9163780090368625,
          0.6275197479081832,
          0.8583251131037221,
          1.3623854341393495,
          0.6370796022240005,
          0.6481870483494465,
          0.6345293821847249,
          0.4822102481537854,
          0.4301338030993627,
          1.1219833163834954,
          0.9011103976123992,
          0.8077507631625488,
          0.8615753801843697,
          0.6762470153445188,
          0.5834038177828412,
          0.8125755506938248,
          1.0529989978968015,
          0.9420289351431617,
          0.7265860150341005,
          0.8404271905292785,
          0.8935773626305109,
          0.9871487236014125,
          0.8943569093295588,
          0.8114017278935326,
          0.8790383049757923,
          0.8595842832196662,
          0.8853305853842826,
          0.8785824208831191,
          0.8604442702973965,
          0.6618576618324441,
          0.6610297862187693,
          0.3755983516737453,
          0.3983234429601118,
          0.678840594339624,
          0.9434191819109607,
          0.840440488911566,
          1.023853805559483,
          0.9155179312888118,
          0.8279393370174516,
          0.7109810864547068,
          6.721259727767061,
          6.378095008334955,
          0.8879759943037394,
          0.8582107313243172,
          0.8482019438011024,
          0.8635098974136309,
          0.8447910168364307,
          0.8555270618126698,
          0.7729904994803822,
          0.8628407246973623,
          0.9780533362079541,
          0.8472482654692809,
          0.9011010254783949,
          0.8240804104538823,
          0.928117551775187,
          0.6804039646108875,
          0.7005037198771077,
          0.6563979261194995,
          0.7117122668551259,
          0.8138564299787977,
          0.926596574500874,
          0.9080157283131342,
          0.8736621017378522,
          0.840935141487922,
          0.9115597703346103,
          0.8544776773788744,
          6.639723898813966,
          20.653301924936212,
          19.90754228491251,
          19.549307394986286,
          20.15076976024902,
          19.739078634915984
         ]
        }
       ],
       "layout": {
        "coloraxis": {
         "colorbar": {
          "title": {
           "text": "Importance Percentage"
          }
         },
         "colorscale": [
          [
           0,
           "rgb(255,245,240)"
          ],
          [
           0.125,
           "rgb(254,224,210)"
          ],
          [
           0.25,
           "rgb(252,187,161)"
          ],
          [
           0.375,
           "rgb(252,146,114)"
          ],
          [
           0.5,
           "rgb(251,106,74)"
          ],
          [
           0.625,
           "rgb(239,59,44)"
          ],
          [
           0.75,
           "rgb(203,24,29)"
          ],
          [
           0.875,
           "rgb(165,15,21)"
          ],
          [
           1,
           "rgb(103,0,13)"
          ]
         ]
        },
        "legend": {
         "tracegroupgap": 0
        },
        "margin": {
         "b": 25,
         "l": 25,
         "r": 25,
         "t": 50
        },
        "template": {
         "data": {
          "bar": [
           {
            "error_x": {
             "color": "#2a3f5f"
            },
            "error_y": {
             "color": "#2a3f5f"
            },
            "marker": {
             "line": {
              "color": "#E5ECF6",
              "width": 0.5
             },
             "pattern": {
              "fillmode": "overlay",
              "size": 10,
              "solidity": 0.2
             }
            },
            "type": "bar"
           }
          ],
          "barpolar": [
           {
            "marker": {
             "line": {
              "color": "#E5ECF6",
              "width": 0.5
             },
             "pattern": {
              "fillmode": "overlay",
              "size": 10,
              "solidity": 0.2
             }
            },
            "type": "barpolar"
           }
          ],
          "carpet": [
           {
            "aaxis": {
             "endlinecolor": "#2a3f5f",
             "gridcolor": "white",
             "linecolor": "white",
             "minorgridcolor": "white",
             "startlinecolor": "#2a3f5f"
            },
            "baxis": {
             "endlinecolor": "#2a3f5f",
             "gridcolor": "white",
             "linecolor": "white",
             "minorgridcolor": "white",
             "startlinecolor": "#2a3f5f"
            },
            "type": "carpet"
           }
          ],
          "choropleth": [
           {
            "colorbar": {
             "outlinewidth": 0,
             "ticks": ""
            },
            "type": "choropleth"
           }
          ],
          "contour": [
           {
            "colorbar": {
             "outlinewidth": 0,
             "ticks": ""
            },
            "colorscale": [
             [
              0,
              "#0d0887"
             ],
             [
              0.1111111111111111,
              "#46039f"
             ],
             [
              0.2222222222222222,
              "#7201a8"
             ],
             [
              0.3333333333333333,
              "#9c179e"
             ],
             [
              0.4444444444444444,
              "#bd3786"
             ],
             [
              0.5555555555555556,
              "#d8576b"
             ],
             [
              0.6666666666666666,
              "#ed7953"
             ],
             [
              0.7777777777777778,
              "#fb9f3a"
             ],
             [
              0.8888888888888888,
              "#fdca26"
             ],
             [
              1,
              "#f0f921"
             ]
            ],
            "type": "contour"
           }
          ],
          "contourcarpet": [
           {
            "colorbar": {
             "outlinewidth": 0,
             "ticks": ""
            },
            "type": "contourcarpet"
           }
          ],
          "heatmap": [
           {
            "colorbar": {
             "outlinewidth": 0,
             "ticks": ""
            },
            "colorscale": [
             [
              0,
              "#0d0887"
             ],
             [
              0.1111111111111111,
              "#46039f"
             ],
             [
              0.2222222222222222,
              "#7201a8"
             ],
             [
              0.3333333333333333,
              "#9c179e"
             ],
             [
              0.4444444444444444,
              "#bd3786"
             ],
             [
              0.5555555555555556,
              "#d8576b"
             ],
             [
              0.6666666666666666,
              "#ed7953"
             ],
             [
              0.7777777777777778,
              "#fb9f3a"
             ],
             [
              0.8888888888888888,
              "#fdca26"
             ],
             [
              1,
              "#f0f921"
             ]
            ],
            "type": "heatmap"
           }
          ],
          "heatmapgl": [
           {
            "colorbar": {
             "outlinewidth": 0,
             "ticks": ""
            },
            "colorscale": [
             [
              0,
              "#0d0887"
             ],
             [
              0.1111111111111111,
              "#46039f"
             ],
             [
              0.2222222222222222,
              "#7201a8"
             ],
             [
              0.3333333333333333,
              "#9c179e"
             ],
             [
              0.4444444444444444,
              "#bd3786"
             ],
             [
              0.5555555555555556,
              "#d8576b"
             ],
             [
              0.6666666666666666,
              "#ed7953"
             ],
             [
              0.7777777777777778,
              "#fb9f3a"
             ],
             [
              0.8888888888888888,
              "#fdca26"
             ],
             [
              1,
              "#f0f921"
             ]
            ],
            "type": "heatmapgl"
           }
          ],
          "histogram": [
           {
            "marker": {
             "pattern": {
              "fillmode": "overlay",
              "size": 10,
              "solidity": 0.2
             }
            },
            "type": "histogram"
           }
          ],
          "histogram2d": [
           {
            "colorbar": {
             "outlinewidth": 0,
             "ticks": ""
            },
            "colorscale": [
             [
              0,
              "#0d0887"
             ],
             [
              0.1111111111111111,
              "#46039f"
             ],
             [
              0.2222222222222222,
              "#7201a8"
             ],
             [
              0.3333333333333333,
              "#9c179e"
             ],
             [
              0.4444444444444444,
              "#bd3786"
             ],
             [
              0.5555555555555556,
              "#d8576b"
             ],
             [
              0.6666666666666666,
              "#ed7953"
             ],
             [
              0.7777777777777778,
              "#fb9f3a"
             ],
             [
              0.8888888888888888,
              "#fdca26"
             ],
             [
              1,
              "#f0f921"
             ]
            ],
            "type": "histogram2d"
           }
          ],
          "histogram2dcontour": [
           {
            "colorbar": {
             "outlinewidth": 0,
             "ticks": ""
            },
            "colorscale": [
             [
              0,
              "#0d0887"
             ],
             [
              0.1111111111111111,
              "#46039f"
             ],
             [
              0.2222222222222222,
              "#7201a8"
             ],
             [
              0.3333333333333333,
              "#9c179e"
             ],
             [
              0.4444444444444444,
              "#bd3786"
             ],
             [
              0.5555555555555556,
              "#d8576b"
             ],
             [
              0.6666666666666666,
              "#ed7953"
             ],
             [
              0.7777777777777778,
              "#fb9f3a"
             ],
             [
              0.8888888888888888,
              "#fdca26"
             ],
             [
              1,
              "#f0f921"
             ]
            ],
            "type": "histogram2dcontour"
           }
          ],
          "mesh3d": [
           {
            "colorbar": {
             "outlinewidth": 0,
             "ticks": ""
            },
            "type": "mesh3d"
           }
          ],
          "parcoords": [
           {
            "line": {
             "colorbar": {
              "outlinewidth": 0,
              "ticks": ""
             }
            },
            "type": "parcoords"
           }
          ],
          "pie": [
           {
            "automargin": true,
            "type": "pie"
           }
          ],
          "scatter": [
           {
            "fillpattern": {
             "fillmode": "overlay",
             "size": 10,
             "solidity": 0.2
            },
            "type": "scatter"
           }
          ],
          "scatter3d": [
           {
            "line": {
             "colorbar": {
              "outlinewidth": 0,
              "ticks": ""
             }
            },
            "marker": {
             "colorbar": {
              "outlinewidth": 0,
              "ticks": ""
             }
            },
            "type": "scatter3d"
           }
          ],
          "scattercarpet": [
           {
            "marker": {
             "colorbar": {
              "outlinewidth": 0,
              "ticks": ""
             }
            },
            "type": "scattercarpet"
           }
          ],
          "scattergeo": [
           {
            "marker": {
             "colorbar": {
              "outlinewidth": 0,
              "ticks": ""
             }
            },
            "type": "scattergeo"
           }
          ],
          "scattergl": [
           {
            "marker": {
             "colorbar": {
              "outlinewidth": 0,
              "ticks": ""
             }
            },
            "type": "scattergl"
           }
          ],
          "scattermapbox": [
           {
            "marker": {
             "colorbar": {
              "outlinewidth": 0,
              "ticks": ""
             }
            },
            "type": "scattermapbox"
           }
          ],
          "scatterpolar": [
           {
            "marker": {
             "colorbar": {
              "outlinewidth": 0,
              "ticks": ""
             }
            },
            "type": "scatterpolar"
           }
          ],
          "scatterpolargl": [
           {
            "marker": {
             "colorbar": {
              "outlinewidth": 0,
              "ticks": ""
             }
            },
            "type": "scatterpolargl"
           }
          ],
          "scatterternary": [
           {
            "marker": {
             "colorbar": {
              "outlinewidth": 0,
              "ticks": ""
             }
            },
            "type": "scatterternary"
           }
          ],
          "surface": [
           {
            "colorbar": {
             "outlinewidth": 0,
             "ticks": ""
            },
            "colorscale": [
             [
              0,
              "#0d0887"
             ],
             [
              0.1111111111111111,
              "#46039f"
             ],
             [
              0.2222222222222222,
              "#7201a8"
             ],
             [
              0.3333333333333333,
              "#9c179e"
             ],
             [
              0.4444444444444444,
              "#bd3786"
             ],
             [
              0.5555555555555556,
              "#d8576b"
             ],
             [
              0.6666666666666666,
              "#ed7953"
             ],
             [
              0.7777777777777778,
              "#fb9f3a"
             ],
             [
              0.8888888888888888,
              "#fdca26"
             ],
             [
              1,
              "#f0f921"
             ]
            ],
            "type": "surface"
           }
          ],
          "table": [
           {
            "cells": {
             "fill": {
              "color": "#EBF0F8"
             },
             "line": {
              "color": "white"
             }
            },
            "header": {
             "fill": {
              "color": "#C8D4E3"
             },
             "line": {
              "color": "white"
             }
            },
            "type": "table"
           }
          ]
         },
         "layout": {
          "annotationdefaults": {
           "arrowcolor": "#2a3f5f",
           "arrowhead": 0,
           "arrowwidth": 1
          },
          "autotypenumbers": "strict",
          "coloraxis": {
           "colorbar": {
            "outlinewidth": 0,
            "ticks": ""
           }
          },
          "colorscale": {
           "diverging": [
            [
             0,
             "#8e0152"
            ],
            [
             0.1,
             "#c51b7d"
            ],
            [
             0.2,
             "#de77ae"
            ],
            [
             0.3,
             "#f1b6da"
            ],
            [
             0.4,
             "#fde0ef"
            ],
            [
             0.5,
             "#f7f7f7"
            ],
            [
             0.6,
             "#e6f5d0"
            ],
            [
             0.7,
             "#b8e186"
            ],
            [
             0.8,
             "#7fbc41"
            ],
            [
             0.9,
             "#4d9221"
            ],
            [
             1,
             "#276419"
            ]
           ],
           "sequential": [
            [
             0,
             "#0d0887"
            ],
            [
             0.1111111111111111,
             "#46039f"
            ],
            [
             0.2222222222222222,
             "#7201a8"
            ],
            [
             0.3333333333333333,
             "#9c179e"
            ],
            [
             0.4444444444444444,
             "#bd3786"
            ],
            [
             0.5555555555555556,
             "#d8576b"
            ],
            [
             0.6666666666666666,
             "#ed7953"
            ],
            [
             0.7777777777777778,
             "#fb9f3a"
            ],
            [
             0.8888888888888888,
             "#fdca26"
            ],
            [
             1,
             "#f0f921"
            ]
           ],
           "sequentialminus": [
            [
             0,
             "#0d0887"
            ],
            [
             0.1111111111111111,
             "#46039f"
            ],
            [
             0.2222222222222222,
             "#7201a8"
            ],
            [
             0.3333333333333333,
             "#9c179e"
            ],
            [
             0.4444444444444444,
             "#bd3786"
            ],
            [
             0.5555555555555556,
             "#d8576b"
            ],
            [
             0.6666666666666666,
             "#ed7953"
            ],
            [
             0.7777777777777778,
             "#fb9f3a"
            ],
            [
             0.8888888888888888,
             "#fdca26"
            ],
            [
             1,
             "#f0f921"
            ]
           ]
          },
          "colorway": [
           "#636efa",
           "#EF553B",
           "#00cc96",
           "#ab63fa",
           "#FFA15A",
           "#19d3f3",
           "#FF6692",
           "#B6E880",
           "#FF97FF",
           "#FECB52"
          ],
          "font": {
           "color": "#2a3f5f"
          },
          "geo": {
           "bgcolor": "white",
           "lakecolor": "white",
           "landcolor": "#E5ECF6",
           "showlakes": true,
           "showland": true,
           "subunitcolor": "white"
          },
          "hoverlabel": {
           "align": "left"
          },
          "hovermode": "closest",
          "mapbox": {
           "style": "light"
          },
          "paper_bgcolor": "white",
          "plot_bgcolor": "#E5ECF6",
          "polar": {
           "angularaxis": {
            "gridcolor": "white",
            "linecolor": "white",
            "ticks": ""
           },
           "bgcolor": "#E5ECF6",
           "radialaxis": {
            "gridcolor": "white",
            "linecolor": "white",
            "ticks": ""
           }
          },
          "scene": {
           "xaxis": {
            "backgroundcolor": "#E5ECF6",
            "gridcolor": "white",
            "gridwidth": 2,
            "linecolor": "white",
            "showbackground": true,
            "ticks": "",
            "zerolinecolor": "white"
           },
           "yaxis": {
            "backgroundcolor": "#E5ECF6",
            "gridcolor": "white",
            "gridwidth": 2,
            "linecolor": "white",
            "showbackground": true,
            "ticks": "",
            "zerolinecolor": "white"
           },
           "zaxis": {
            "backgroundcolor": "#E5ECF6",
            "gridcolor": "white",
            "gridwidth": 2,
            "linecolor": "white",
            "showbackground": true,
            "ticks": "",
            "zerolinecolor": "white"
           }
          },
          "shapedefaults": {
           "line": {
            "color": "#2a3f5f"
           }
          },
          "ternary": {
           "aaxis": {
            "gridcolor": "white",
            "linecolor": "white",
            "ticks": ""
           },
           "baxis": {
            "gridcolor": "white",
            "linecolor": "white",
            "ticks": ""
           },
           "bgcolor": "#E5ECF6",
           "caxis": {
            "gridcolor": "white",
            "linecolor": "white",
            "ticks": ""
           }
          },
          "title": {
           "x": 0.05
          },
          "xaxis": {
           "automargin": true,
           "gridcolor": "white",
           "linecolor": "white",
           "ticks": "",
           "title": {
            "standoff": 15
           },
           "zerolinecolor": "white",
           "zerolinewidth": 2
          },
          "yaxis": {
           "automargin": true,
           "gridcolor": "white",
           "linecolor": "white",
           "ticks": "",
           "title": {
            "standoff": 15
           },
           "zerolinecolor": "white",
           "zerolinewidth": 2
          }
         }
        },
        "title": {
         "text": "Feature Importances Treemap"
        },
        "treemapcolorway": [
         "#F71D00"
        ]
       }
      }
     },
     "metadata": {},
     "output_type": "display_data"
    }
   ],
   "source": [
    "# Feature importances para RandomForest\n",
    "feature_importances = best_rf_model.named_steps['classifier'].feature_importances_\n",
    "\n",
    "# Extraer los nombres de las features luego del preprocesado \n",
    "preprocessor = best_rf_model.named_steps['preprocessor']\n",
    "# Obtener los nombres luego de las tranformaciones numéricas\n",
    "numeric_feature_names = numerical_features\n",
    "# Obtener los nombres luego de las tranformaciones categóricas\n",
    "cat_feature_names = preprocessor.named_transformers_['cat'].get_feature_names_out(categorical_features)\n",
    "\n",
    "# Combinar todos los nombres de las features\n",
    "feature_names = list(numeric_feature_names) + list(cat_feature_names)\n",
    "\n",
    "# Crear el DataFrame para feature importances\n",
    "importance_df = pd.DataFrame({\n",
    "    'Feature': feature_names,\n",
    "    'Importance Percentage': feature_importances * 100\n",
    "})\n",
    "\n",
    "# Agregar una columna para agrupar las features por su categoría original\n",
    "importance_df['Group'] = importance_df['Feature'].apply(lambda x: x.split('_')[0] if '_' in x else 'numeric')\n",
    "\n",
    "# Ordenar el DataFrame por importances\n",
    "importance_df = importance_df.sort_values(by='Importance Percentage', ascending=False)\n",
    "\n",
    "# Crear treemap\n",
    "fig = px.treemap(\n",
    "    importance_df,\n",
    "    path=['Group', 'Feature'],\n",
    "    values='Importance Percentage',\n",
    "    color='Importance Percentage',\n",
    "    color_continuous_scale='reds',\n",
    "    title='Feature Importances Treemap'\n",
    ")\n",
    "\n",
    "fig.update_layout(\n",
    "    treemapcolorway=['#F71D00'],\n",
    "    margin=dict(t=50, l=25, r=25, b=25)\n",
    ")\n",
    "\n",
    "fig.show()"
   ]
  }
 ],
 "metadata": {
  "kernelspec": {
   "display_name": "Python 3",
   "language": "python",
   "name": "python3"
  },
  "language_info": {
   "codemirror_mode": {
    "name": "ipython",
    "version": 3
   },
   "file_extension": ".py",
   "mimetype": "text/x-python",
   "name": "python",
   "nbconvert_exporter": "python",
   "pygments_lexer": "ipython3",
   "version": "3.11.9"
  }
 },
 "nbformat": 4,
 "nbformat_minor": 2
}
